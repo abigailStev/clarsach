{
 "cells": [
  {
   "cell_type": "markdown",
   "metadata": {
    "deletable": true,
    "editable": true
   },
   "source": [
    "# Responses for Chandra/HETG\n",
    "\n",
    "Let's see if we can figure out responses for the Chandra/HETG. This notebook will require `sherpa`, because we're using this for comparison purposes!"
   ]
  },
  {
   "cell_type": "code",
   "execution_count": 1,
   "metadata": {
    "collapsed": false,
    "deletable": true,
    "editable": true
   },
   "outputs": [
    {
     "name": "stdout",
     "output_type": "stream",
     "text": [
      "WARNING: imaging routines will not be available, \n",
      "failed to import sherpa.image.ds9_backend due to \n",
      "'RuntimeErr: DS9Win unusable: Could not find ds9 on your PATH'\n",
      "WARNING: failed to import WCS module; WCS routines will not be available\n",
      "WARNING: failed to import sherpa.astro.xspec; XSPEC models will not be available\n"
     ]
    }
   ],
   "source": [
    "%matplotlib inline\n",
    "import matplotlib.pyplot as plt\n",
    "try:\n",
    "    import seaborn as sns\n",
    "except ImportError:\n",
    "    print(\"No seaborn installed. Oh well.\")\n",
    "    \n",
    "import numpy as np \n",
    "import pandas as pd\n",
    "import astropy.io.fits as fits\n",
    "import sherpa.astro.ui as ui\n",
    "import astropy.modeling.models as models\n",
    "from astropy.modeling.fitting import _fitter_to_model_params\n",
    "from scipy.special import gammaln as scipy_gammaln\n",
    "\n",
    "from clarsach.respond import RMF, ARF\n"
   ]
  },
  {
   "cell_type": "markdown",
   "metadata": {
    "deletable": true,
    "editable": true
   },
   "source": [
    "Let's load some HETG simulations of a simple power law. The input values for that spectrum are:\n",
    "* `norm = 1`\n",
    "* `ph_index = 2`"
   ]
  },
  {
   "cell_type": "code",
   "execution_count": 2,
   "metadata": {
    "collapsed": true,
    "deletable": true,
    "editable": true
   },
   "outputs": [],
   "source": [
    "datadir = \"./\""
   ]
  },
  {
   "cell_type": "markdown",
   "metadata": {
    "deletable": true,
    "editable": true
   },
   "source": [
    "Note: `sherpa` will only load the responses correctly if the data is in the same folder as this notebook. Go figure."
   ]
  },
  {
   "cell_type": "code",
   "execution_count": 3,
   "metadata": {
    "collapsed": false,
    "deletable": true,
    "editable": true
   },
   "outputs": [
    {
     "name": "stdout",
     "output_type": "stream",
     "text": [
      "WARNING: systematic errors were not found in file './fake_heg_p1.pha'\n",
      "statistical errors were found in file './fake_heg_p1.pha' \n",
      "but not used; to use them, re-read with use_errors=True\n",
      "read ARF file arfs/aciss_heg1_cy19.garf\n",
      "read RMF file rmfs/aciss_heg1_cy19.grmf\n"
     ]
    }
   ],
   "source": [
    "ui.load_data(id=\"p1\", filename=datadir+\"fake_heg_p1.pha\")"
   ]
  },
  {
   "cell_type": "markdown",
   "metadata": {
    "deletable": true,
    "editable": true
   },
   "source": [
    "Let's take a look at that data:"
   ]
  },
  {
   "cell_type": "code",
   "execution_count": 4,
   "metadata": {
    "collapsed": true,
    "deletable": true,
    "editable": true
   },
   "outputs": [],
   "source": [
    "d = ui.get_data(\"p1\")"
   ]
  },
  {
   "cell_type": "code",
   "execution_count": 5,
   "metadata": {
    "collapsed": false,
    "deletable": true,
    "editable": true
   },
   "outputs": [],
   "source": [
    "# conversion factor from keV to angstrom\n",
    "c = 12.3984191\n",
    "\n",
    "# This is the data in angstrom\n",
    "bin_lo = d.bin_lo\n",
    "bin_hi = d.bin_hi\n",
    "bin_mid = bin_lo + (bin_hi - bin_lo) / 2.0\n",
    "\n",
    "counts = d.counts\n"
   ]
  },
  {
   "cell_type": "code",
   "execution_count": 6,
   "metadata": {
    "collapsed": false,
    "deletable": true,
    "editable": true
   },
   "outputs": [
    {
     "data": {
      "text/plain": [
       "[<matplotlib.lines.Line2D at 0x116c69470>]"
      ]
     },
     "execution_count": 6,
     "metadata": {},
     "output_type": "execute_result"
    },
    {
     "data": {
      "image/png": "[encoded data removed]",
      "text/plain": [
       "<matplotlib.figure.Figure at 0x1109406d8>"
      ]
     },
     "metadata": {},
     "output_type": "display_data"
    }
   ],
   "source": [
    "plt.figure(figsize=(10,7))\n",
    "plt.plot(bin_mid, counts)"
   ]
  },
  {
   "cell_type": "markdown",
   "metadata": {
    "deletable": true,
    "editable": true
   },
   "source": [
    "Let's load the ARF from a file:"
   ]
  },
  {
   "cell_type": "code",
   "execution_count": 7,
   "metadata": {
    "collapsed": true,
    "deletable": true,
    "editable": true
   },
   "outputs": [],
   "source": [
    "hdulist = fits.open(\"fake_heg_p1.pha\")"
   ]
  },
  {
   "cell_type": "code",
   "execution_count": 8,
   "metadata": {
    "collapsed": false
   },
   "outputs": [
    {
     "data": {
      "text/plain": [
       "'keV'"
      ]
     },
     "execution_count": 8,
     "metadata": {},
     "output_type": "execute_result"
    }
   ],
   "source": [
    "hdulist[1].header[\"TUNIT3\"]"
   ]
  },
  {
   "cell_type": "code",
   "execution_count": 9,
   "metadata": {
    "collapsed": false
   },
   "outputs": [],
   "source": [
    "exposure = hdulist[1].header[\"EXPOSURE\"]"
   ]
  },
  {
   "cell_type": "code",
   "execution_count": 10,
   "metadata": {
    "collapsed": false,
    "deletable": true,
    "editable": true
   },
   "outputs": [],
   "source": [
    "bin_lo = hdulist[1].data.field(\"BIN_LO\")\n",
    "bin_hi = hdulist[1].data.field(\"BIN_HI\")\n",
    "channels = hdulist[1].data.field(\"CHANNEL\")\n",
    "counts = hdulist[1].data.field(\"COUNTS\")"
   ]
  },
  {
   "cell_type": "code",
   "execution_count": 52,
   "metadata": {
    "collapsed": false,
    "deletable": true,
    "editable": true
   },
   "outputs": [],
   "source": [
    "arf_list = fits.open(datadir+\"arfs/aciss_heg-1_cy19.garf\")"
   ]
  },
  {
   "cell_type": "code",
   "execution_count": 53,
   "metadata": {
    "collapsed": false,
    "deletable": true,
    "editable": true
   },
   "outputs": [
    {
     "data": {
      "text/plain": [
       "'keV'"
      ]
     },
     "execution_count": 53,
     "metadata": {},
     "output_type": "execute_result"
    }
   ],
   "source": [
    "arf_list[1].header[\"TUNIT1\"]"
   ]
  },
  {
   "cell_type": "code",
   "execution_count": 56,
   "metadata": {
    "collapsed": true,
    "deletable": true,
    "editable": true
   },
   "outputs": [],
   "source": [
    "specresp = arf_list[1].data.field(\"SPECRESP\")\n",
    "energ_lo = arf_list[1].data.field(\"ENERG_LO\")\n",
    "energ_hi = arf_list[1].data.field(\"ENERG_HI\")\n",
    "phafrac = arf_list[1].data.field(\"PHAFRAC\")"
   ]
  },
  {
   "cell_type": "code",
   "execution_count": 57,
   "metadata": {
    "collapsed": false
   },
   "outputs": [
    {
     "data": {
      "text/plain": [
       "ColDefs(\n",
       "    name = 'ENERG_LO'; format = '1E'; unit = 'keV'\n",
       "    name = 'ENERG_HI'; format = '1E'; unit = 'keV'\n",
       "    name = 'SPECRESP'; format = '1E'; unit = 'cm**2'\n",
       "    name = 'BIN_LO'; format = '1E'; unit = 'angstrom'\n",
       "    name = 'BIN_HI'; format = '1E'; unit = 'angstrom'\n",
       "    name = 'FRACEXPO'; format = '1E'\n",
       "    name = 'PHAFRAC'; format = '1E'\n",
       ")"
      ]
     },
     "execution_count": 57,
     "metadata": {},
     "output_type": "execute_result"
    }
   ],
   "source": [
    "arf_list[1].columns"
   ]
  },
  {
   "cell_type": "markdown",
   "metadata": {
    "deletable": true,
    "editable": true
   },
   "source": [
    "Let's also load the rmf:"
   ]
  },
  {
   "cell_type": "code",
   "execution_count": 58,
   "metadata": {
    "collapsed": false,
    "deletable": true,
    "editable": true
   },
   "outputs": [
    {
     "data": {
      "text/plain": [
       "'keV'"
      ]
     },
     "execution_count": 58,
     "metadata": {},
     "output_type": "execute_result"
    }
   ],
   "source": [
    "rmf_list = fits.open(datadir+\"rmfs/aciss_heg1_cy19.grmf\")\n",
    "rmf_list[1].header[\"TUNIT1\"]"
   ]
  },
  {
   "cell_type": "markdown",
   "metadata": {},
   "source": [
    "Ok, so all of our files have the same units. This is good, because this is not always the case for Chandra/HETG.\n",
    "\n",
    "**Note**: We need to fix that in the code!\n",
    "\n",
    "Let's load the ARF and the RMF from `sherpa`:"
   ]
  },
  {
   "cell_type": "code",
   "execution_count": 59,
   "metadata": {
    "collapsed": true,
    "deletable": true,
    "editable": true
   },
   "outputs": [],
   "source": [
    "arf = d.get_arf()\n",
    "specresp = arf.specresp\n",
    "\n",
    "rmf = d.get_rmf()"
   ]
  },
  {
   "cell_type": "markdown",
   "metadata": {
    "deletable": true,
    "editable": true
   },
   "source": [
    "Now we can make a model spectrum we can play around with! `clarsach` has an implementation of a Powerlaw model that matches the `ISIS` one that created the data:"
   ]
  },
  {
   "cell_type": "code",
   "execution_count": 60,
   "metadata": {
    "collapsed": false,
    "deletable": true,
    "editable": true
   },
   "outputs": [],
   "source": [
    "from clarsach.models.powerlaw import Powerlaw"
   ]
  },
  {
   "cell_type": "code",
   "execution_count": 61,
   "metadata": {
    "collapsed": false,
    "deletable": true,
    "editable": true
   },
   "outputs": [],
   "source": [
    "pl = Powerlaw(norm=1.0, phoindex=2.0)"
   ]
  },
  {
   "cell_type": "markdown",
   "metadata": {
    "deletable": true,
    "editable": true
   },
   "source": [
    "Now we can produce a model with the same resolution as the HETG:"
   ]
  },
  {
   "cell_type": "code",
   "execution_count": 62,
   "metadata": {
    "collapsed": false,
    "deletable": true,
    "editable": true
   },
   "outputs": [],
   "source": [
    "m = pl.calculate(ener_lo=bin_lo, ener_hi=bin_hi)"
   ]
  },
  {
   "cell_type": "code",
   "execution_count": 63,
   "metadata": {
    "collapsed": false,
    "deletable": true,
    "editable": true
   },
   "outputs": [
    {
     "data": {
      "text/plain": [
       "[<matplotlib.lines.Line2D at 0x11749b5c0>]"
      ]
     },
     "execution_count": 63,
     "metadata": {},
     "output_type": "execute_result"
    },
    {
     "data": {
      "image/png": "[encoded data removed]",
      "text/plain": [
       "<matplotlib.figure.Figure at 0x116242240>"
      ]
     },
     "metadata": {},
     "output_type": "display_data"
    }
   ],
   "source": [
    "plt.figure()\n",
    "plt.plot(bin_mid, m)"
   ]
  },
  {
   "cell_type": "markdown",
   "metadata": {},
   "source": [
    "This looks pretty weird! But remember, those are the integral of the power law over the bins! Let's apply the rmf and arf to this model:"
   ]
  },
  {
   "cell_type": "code",
   "execution_count": 64,
   "metadata": {
    "collapsed": false,
    "deletable": true,
    "editable": true
   },
   "outputs": [],
   "source": [
    "m_arf = m*specresp*1.e5\n",
    "\n",
    "m_rmf = rmf.apply_rmf(m_arf)"
   ]
  },
  {
   "cell_type": "code",
   "execution_count": 65,
   "metadata": {
    "collapsed": false,
    "deletable": true,
    "editable": true
   },
   "outputs": [
    {
     "data": {
      "text/plain": [
       "<matplotlib.legend.Legend at 0x117e55f60>"
      ]
     },
     "execution_count": 65,
     "metadata": {},
     "output_type": "execute_result"
    },
    {
     "data": {
      "image/png": "[encoded data removed]",
      "text/plain": [
       "<matplotlib.figure.Figure at 0x1174bfcf8>"
      ]
     },
     "metadata": {},
     "output_type": "display_data"
    }
   ],
   "source": [
    "plt.figure()\n",
    "plt.plot(bin_mid, counts, label=\"data\")\n",
    "plt.plot(bin_mid, m_rmf, label=\"model with ARF\")\n",
    "plt.legend()"
   ]
  },
  {
   "cell_type": "markdown",
   "metadata": {
    "deletable": true,
    "editable": true
   },
   "source": [
    "Okay, that looks pretty good!\n",
    "\n",
    "### Building a Model\n",
    "\n",
    "Let's build a model for fitting a model to the data. We're going to do nothing fancy here, just a simple Poisson likelihood. It's similar to the one in the `TestAthenaXIFU` notebook, except it uses the `Clarsach` powerlaw function and integrates over bins."
   ]
  },
  {
   "cell_type": "code",
   "execution_count": 66,
   "metadata": {
    "collapsed": true,
    "deletable": true,
    "editable": true
   },
   "outputs": [],
   "source": [
    "class PoissonLikelihood(object):\n",
    "    \n",
    "    def __init__(self, x_low, x_high, y, model, arf=None, rmf=None):\n",
    "        self.x_low = x_low\n",
    "        self.x_high = x_high\n",
    "        self.y = y\n",
    "        self.model = model\n",
    "        self.arf = arf\n",
    "        self.rmf = rmf\n",
    "\n",
    "    def evaluate(self, pars):\n",
    "        # store the new parameters in the model\n",
    "\n",
    "        self.model.norm = pars[0]\n",
    "        self.model.phoindex = pars[1]\n",
    "        \n",
    "        # evaluate the model at the positions x\n",
    "        mean_model = self.model.calculate(self.x_low, self.x_high)\n",
    "\n",
    "        # run the ARF and RMF calculations\n",
    "        if arf is not None and rmf is not None:\n",
    "            m_arf = arf.apply_arf(mean_model)*arf.exposure\n",
    "            ymodel = rmf.apply_rmf(m_arf)\n",
    "        else:\n",
    "            ymodel = mean_model\n",
    "                \n",
    "        ymodel += 1e-20\n",
    "        # compute the log-likelihood\n",
    "        loglike = np.sum(-ymodel + self.y*np.log(ymodel) \\\n",
    "               - scipy_gammaln(self.y + 1.))\n",
    "\n",
    "        if np.isfinite(loglike):\n",
    "            return loglike\n",
    "        else:\n",
    "            return -1.e16\n",
    "\n",
    "    def __call__(self, pars):\n",
    "        l = -self.evaluate(pars)\n",
    "        #print(l)\n",
    "        return l\n",
    "\n"
   ]
  },
  {
   "cell_type": "code",
   "execution_count": 67,
   "metadata": {
    "collapsed": false,
    "deletable": true,
    "editable": true
   },
   "outputs": [
    {
     "data": {
      "text/plain": [
       "1398751.3472584561"
      ]
     },
     "execution_count": 67,
     "metadata": {},
     "output_type": "execute_result"
    }
   ],
   "source": [
    "loglike = PoissonLikelihood(bin_lo, bin_hi, counts, pl, arf=arf, rmf=rmf)\n",
    "loglike([1.0, 2.0])"
   ]
  },
  {
   "cell_type": "markdown",
   "metadata": {},
   "source": [
    "Let's fit that:"
   ]
  },
  {
   "cell_type": "code",
   "execution_count": 68,
   "metadata": {
    "collapsed": true,
    "deletable": true,
    "editable": true
   },
   "outputs": [],
   "source": [
    "from scipy.optimize import minimize"
   ]
  },
  {
   "cell_type": "code",
   "execution_count": 69,
   "metadata": {
    "collapsed": false,
    "deletable": true,
    "editable": true
   },
   "outputs": [],
   "source": [
    "opt = minimize(loglike, [1.0, 2.0])"
   ]
  },
  {
   "cell_type": "code",
   "execution_count": 70,
   "metadata": {
    "collapsed": false
   },
   "outputs": [
    {
     "data": {
      "text/plain": [
       "      fun: 21421.497920481364\n",
       " hess_inv: array([[  3.93325864e-03,   3.99093102e-04],\n",
       "       [  3.99093102e-04,   4.07296844e-05]])\n",
       "      jac: array([-0.00097656,  0.00463867])\n",
       "  message: 'Desired error not necessarily achieved due to precision loss.'\n",
       "     nfev: 187\n",
       "      nit: 19\n",
       "     njev: 44\n",
       "   status: 2\n",
       "  success: False\n",
       "        x: array([ 10.1011883,   1.9971106])"
      ]
     },
     "execution_count": 70,
     "metadata": {},
     "output_type": "execute_result"
    }
   ],
   "source": [
    "opt"
   ]
  },
  {
   "cell_type": "code",
   "execution_count": 71,
   "metadata": {
    "collapsed": false
   },
   "outputs": [],
   "source": [
    "m_fit = pl.calculate(bin_lo, bin_hi)\n",
    "m_fit_arf = arf.apply_arf(m_fit) * arf.exposure\n",
    "m_fit_rmf = rmf.apply_rmf(m_fit_arf)"
   ]
  },
  {
   "cell_type": "code",
   "execution_count": 72,
   "metadata": {
    "collapsed": false
   },
   "outputs": [
    {
     "data": {
      "text/plain": [
       "<matplotlib.legend.Legend at 0x118784908>"
      ]
     },
     "execution_count": 72,
     "metadata": {},
     "output_type": "execute_result"
    },
    {
     "data": {
      "image/png": "[encoded data removed]",
      "text/plain": [
       "<matplotlib.figure.Figure at 0x116413630>"
      ]
     },
     "metadata": {},
     "output_type": "display_data"
    }
   ],
   "source": [
    "plt.figure()\n",
    "plt.plot(bin_mid, counts, label=\"data\")\n",
    "plt.plot(bin_mid, m_fit_rmf, label=\"model with ARF\")\n",
    "plt.legend()"
   ]
  },
  {
   "cell_type": "markdown",
   "metadata": {},
   "source": [
    "Woo! It works! There's something funny with the exposure I need to ask Lia about!\n",
    "\n",
    "## Making Our Own ARF/RMF Classes\n",
    "\n",
    "Ideally, we don't want to be dependent on the `sherpa` implementation.\n",
    "We're now going to write our own implementations, and then test them on the model above.\n",
    "\n",
    "Let's first write a function for applying the ARF. This is easy, because the ARF just requires a multiplication with the input spectrum."
   ]
  },
  {
   "cell_type": "code",
   "execution_count": 73,
   "metadata": {
    "collapsed": true,
    "deletable": true,
    "editable": true
   },
   "outputs": [],
   "source": [
    "def apply_arf(spec, specresp):\n",
    "    \"\"\"\n",
    "    Apply the anxilliary response to \n",
    "    a spectrum. \n",
    "    \n",
    "    Parameters\n",
    "    ----------\n",
    "    spec : numpy.ndarray\n",
    "        The source spectrum in flux units\n",
    "        \n",
    "    specresp: numpy.ndarray\n",
    "        The response \n",
    "        \n",
    "    exposure : float\n",
    "        The exposure of the observation\n",
    "        \n",
    "    Returns\n",
    "    -------\n",
    "    spec_arf : numpy.ndarray\n",
    "        The spectrum with the response applied.\n",
    "    \n",
    "    \"\"\"\n",
    "    spec_arf = spec*specresp*exposure\n",
    "    return spec_arf"
   ]
  },
  {
   "cell_type": "markdown",
   "metadata": {
    "deletable": true,
    "editable": true
   },
   "source": [
    "Let's try it!"
   ]
  },
  {
   "cell_type": "code",
   "execution_count": 74,
   "metadata": {
    "collapsed": true,
    "deletable": true,
    "editable": true
   },
   "outputs": [],
   "source": [
    "m_arf = apply_arf(m, arf.specresp)"
   ]
  },
  {
   "cell_type": "markdown",
   "metadata": {
    "deletable": true,
    "editable": true
   },
   "source": [
    "We can compare that with the result from `sherpa`:"
   ]
  },
  {
   "cell_type": "code",
   "execution_count": 75,
   "metadata": {
    "collapsed": false,
    "deletable": true,
    "editable": true
   },
   "outputs": [],
   "source": [
    "m_arf_sherpa = arf.apply_arf(m)"
   ]
  },
  {
   "cell_type": "code",
   "execution_count": 76,
   "metadata": {
    "collapsed": false,
    "deletable": true,
    "editable": true
   },
   "outputs": [
    {
     "data": {
      "text/plain": [
       "False"
      ]
     },
     "execution_count": 76,
     "metadata": {},
     "output_type": "execute_result"
    }
   ],
   "source": [
    "np.allclose(m_arf, m_arf_sherpa)"
   ]
  },
  {
   "cell_type": "markdown",
   "metadata": {
    "deletable": true,
    "editable": true
   },
   "source": [
    "It works! There's also a version in the new `clarsach` package, which we should test and compare as well:"
   ]
  },
  {
   "cell_type": "code",
   "execution_count": 77,
   "metadata": {
    "collapsed": true,
    "deletable": true,
    "editable": true
   },
   "outputs": [],
   "source": [
    "from clarsach.respond import ARF"
   ]
  },
  {
   "cell_type": "code",
   "execution_count": 78,
   "metadata": {
    "collapsed": false,
    "deletable": true,
    "editable": true
   },
   "outputs": [],
   "source": [
    "arf_c = ARF(datadir+\"arfs/aciss_heg1_cy19.garf\")\n",
    "m_arf_c = arf_c.apply_arf(m)"
   ]
  },
  {
   "cell_type": "code",
   "execution_count": 79,
   "metadata": {
    "collapsed": false,
    "deletable": true,
    "editable": true
   },
   "outputs": [
    {
     "data": {
      "text/plain": [
       "True"
      ]
     },
     "execution_count": 79,
     "metadata": {},
     "output_type": "execute_result"
    }
   ],
   "source": [
    "np.allclose(m_arf_sherpa, m_arf_c)"
   ]
  },
  {
   "cell_type": "markdown",
   "metadata": {
    "deletable": true,
    "editable": true
   },
   "source": [
    "It works!\n",
    "\n",
    "Next, let's look at the RMF, which is more complex. This requires a matrix multiplication. However, the response matrices are compressed to remove zeros and save space in memory, so they require a little more complex fiddling. Here's an implementation that is basically almost a line-by-line translation of the C++ code:"
   ]
  },
  {
   "cell_type": "code",
   "execution_count": 80,
   "metadata": {
    "collapsed": true,
    "deletable": true,
    "editable": true
   },
   "outputs": [],
   "source": [
    "def rmf_fold(spec, rmf):\n",
    "    \n",
    "    #current_num_groups = 0\n",
    "    #current_num_chans = 0\n",
    "    \n",
    "    nchannels = spec.shape[0]\n",
    "    \n",
    "    resp_idx = 0\n",
    "    first_chan_idx = 0\n",
    "    num_chans_idx =0\n",
    "    counts_idx = 0\n",
    "    \n",
    "    counts = np.zeros(nchannels)\n",
    "    \n",
    "    for i in range(nchannels):\n",
    "        source_bin_i = spec[i]\n",
    "        current_num_groups = rmf.n_grp[i]\n",
    "        \n",
    "        while current_num_groups:\n",
    "            counts_idx = int(rmf.f_chan[first_chan_idx] - rmf.offset)\n",
    "            current_num_chans = rmf.n_chan[num_chans_idx]\n",
    "            \n",
    "            first_chan_idx += 1\n",
    "            num_chans_idx +=1 \n",
    "            \n",
    "            while current_num_chans:\n",
    "                counts[counts_idx] += rmf.matrix[resp_idx] * source_bin_i\n",
    "                counts_idx += 1\n",
    "                resp_idx += 1\n",
    "                current_num_chans -= 1\n",
    "            \n",
    "            current_num_groups -= 1\n",
    "            \n",
    "    return counts\n",
    "\n"
   ]
  },
  {
   "cell_type": "markdown",
   "metadata": {
    "deletable": true,
    "editable": true
   },
   "source": [
    "Let's see if we can make this more vectorized:"
   ]
  },
  {
   "cell_type": "code",
   "execution_count": 81,
   "metadata": {
    "collapsed": true,
    "deletable": true,
    "editable": true
   },
   "outputs": [],
   "source": [
    "def rmf_fold_vector(spec, rmf):\n",
    "    \"\"\"\n",
    "    Fold the spectrum through the redistribution matrix.\n",
    "    \n",
    "    Parameters\n",
    "    ----------\n",
    "    spec : numpy.ndarray\n",
    "        The (model) spectrum to be folded\n",
    "        \n",
    "    rmf : sherpa.RMFData object\n",
    "        The object with the RMF data\n",
    "    \n",
    "    \"\"\"    \n",
    "    # get the number of channels in the data\n",
    "    nchannels = spec.shape[0]\n",
    "    \n",
    "    # an empty array for the output counts\n",
    "    counts = np.zeros(nchannels)\n",
    "    \n",
    "    # index for n_chan and f_chan incrementation\n",
    "    k = 0\n",
    "    \n",
    "    # index for the response matrix incrementation\n",
    "    resp_idx = 0\n",
    "\n",
    "    # loop over all channels\n",
    "    for i in range(nchannels):\n",
    "        \n",
    "        # this is the current bin in the flux spectrum to \n",
    "        # be folded\n",
    "        source_bin_i = spec[i]\n",
    "        \n",
    "        # get the current number of groups \n",
    "        current_num_groups = rmf.n_grp[i]\n",
    "        \n",
    "        for j in range(current_num_groups):\n",
    "            counts_idx = int(rmf.f_chan[k] - rmf.offset)\n",
    "            current_num_chans = int(rmf.n_chan[k])\n",
    "            \n",
    "            k += 1\n",
    "            \n",
    "            counts[counts_idx:counts_idx+current_num_chans] += rmf.matrix[resp_idx:resp_idx+current_num_chans] * source_bin_i\n",
    "            resp_idx += current_num_chans\n",
    "            \n",
    "    return counts\n"
   ]
  },
  {
   "cell_type": "markdown",
   "metadata": {
    "deletable": true,
    "editable": true
   },
   "source": [
    "Let's time the different implementations and compare them to the `sherpa` version (which is basically a wrapper around the C++):"
   ]
  },
  {
   "cell_type": "code",
   "execution_count": 82,
   "metadata": {
    "collapsed": false,
    "deletable": true,
    "editable": true
   },
   "outputs": [
    {
     "name": "stdout",
     "output_type": "stream",
     "text": [
      "1 loop, best of 3: 746 ms per loop\n"
     ]
    }
   ],
   "source": [
    "# not vectorized version\n",
    "m_rmf = rmf_fold(m_arf, rmf)\n",
    "%timeit m_rmf = rmf_fold(m_arf, rmf)"
   ]
  },
  {
   "cell_type": "code",
   "execution_count": 83,
   "metadata": {
    "collapsed": false,
    "deletable": true,
    "editable": true
   },
   "outputs": [
    {
     "name": "stdout",
     "output_type": "stream",
     "text": [
      "10 loops, best of 3: 32.5 ms per loop\n"
     ]
    }
   ],
   "source": [
    "# vectorized version\n",
    "m_rmf_v = rmf_fold_vector(m_arf, rmf)\n",
    "%timeit m_rmf_v = rmf_fold_vector(m_arf, rmf)"
   ]
  },
  {
   "cell_type": "code",
   "execution_count": 84,
   "metadata": {
    "collapsed": false,
    "deletable": true,
    "editable": true,
    "scrolled": true
   },
   "outputs": [
    {
     "name": "stdout",
     "output_type": "stream",
     "text": [
      "1000 loops, best of 3: 746 µs per loop\n"
     ]
    }
   ],
   "source": [
    "# C++ (sherpa) version\n",
    "m_rmf2 = rmf.apply_rmf(m_arf)\n",
    "%timeit m_rmf2 = rmf.apply_rmf(m_arf)"
   ]
  },
  {
   "cell_type": "markdown",
   "metadata": {
    "deletable": true,
    "editable": true
   },
   "source": [
    "So my vectorized implementation is ~20 times slower than the sherpa version, and the non-vectorized version is *really* slow. But are they all the same?"
   ]
  },
  {
   "cell_type": "code",
   "execution_count": 85,
   "metadata": {
    "collapsed": false,
    "deletable": true,
    "editable": true
   },
   "outputs": [
    {
     "data": {
      "text/plain": [
       "True"
      ]
     },
     "execution_count": 85,
     "metadata": {},
     "output_type": "execute_result"
    }
   ],
   "source": [
    "np.allclose(m_rmf_v, m_rmf2)"
   ]
  },
  {
   "cell_type": "code",
   "execution_count": 86,
   "metadata": {
    "collapsed": false,
    "deletable": true,
    "editable": true
   },
   "outputs": [
    {
     "data": {
      "text/plain": [
       "True"
      ]
     },
     "execution_count": 86,
     "metadata": {},
     "output_type": "execute_result"
    }
   ],
   "source": [
    "np.allclose(m_rmf, m_rmf2)"
   ]
  },
  {
   "cell_type": "markdown",
   "metadata": {
    "deletable": true,
    "editable": true
   },
   "source": [
    "They are! It looks like for this particular Chandra/HETG data set, it's working! "
   ]
  },
  {
   "cell_type": "markdown",
   "metadata": {
    "deletable": true,
    "editable": true
   },
   "source": [
    "## Making an ARF/RMF Class\n",
    "\n",
    "the ARF and RMF code would live well in a class, so let's wrap it into a class:"
   ]
  },
  {
   "cell_type": "code",
   "execution_count": 87,
   "metadata": {
    "collapsed": true,
    "deletable": true,
    "editable": true
   },
   "outputs": [],
   "source": [
    "class RMF(object):\n",
    "    \n",
    "    def __init__(self, filename):\n",
    "        \n",
    "        self._load_rmf(filename)\n",
    "        pass\n",
    "    \n",
    "    def _load_rmf(self, filename):\n",
    "        \"\"\"\n",
    "        Load an RMF from a FITS file.\n",
    "        \n",
    "        Parameters\n",
    "        ----------\n",
    "        filename : str\n",
    "            The file name with the RMF file\n",
    "            \n",
    "        Attributes\n",
    "        ----------\n",
    "        n_grp : numpy.ndarray\n",
    "            the Array with the number of channels in each \n",
    "            channel set\n",
    "        \n",
    "        f_chan : numpy.ndarray\n",
    "            The starting channel for each channel group;\n",
    "            If an element i in n_grp > 1, then the resulting \n",
    "            row entry in f_chan will be a list of length n_grp[i];\n",
    "            otherwise it will be a single number\n",
    "            \n",
    "        n_chan : numpy.ndarray\n",
    "            The number of channels in each channel group. The same \n",
    "            logic as for f_chan applies\n",
    "            \n",
    "        matrix : numpy.ndarray\n",
    "            The redistribution matrix as a flattened 1D vector\n",
    "            \n",
    "        energ_lo : numpy.ndarray\n",
    "            The lower edges of the energy bins\n",
    "        \n",
    "        energ_hi : numpy.ndarray\n",
    "            The upper edges of the energy bins\n",
    "            \n",
    "        detchans : int\n",
    "            The number of channels in the detector\n",
    "        \n",
    "        \"\"\"\n",
    "        # open the FITS file and extract the MATRIX extension\n",
    "        # which contains the redistribution matrix and \n",
    "        # anxillary information\n",
    "        hdulist = fits.open(filename)\n",
    "        h = hdulist[\"MATRIX\"]\n",
    "        data = h.data\n",
    "        hdr = h.header\n",
    "        hdulist.close()\n",
    "        \n",
    "        # extract + store the attributes described in the docstring \n",
    "        n_grp = np.array(data.field(\"N_GRP\"))\n",
    "        f_chan = np.array(data.field('F_CHAN'))\n",
    "        n_chan = np.array(data.field(\"N_CHAN\"))\n",
    "        matrix = np.array(data.field(\"MATRIX\"))\n",
    "        self.energ_lo = np.array(data.field(\"ENERG_LO\"))\n",
    "        self.energ_hi = np.array(data.field(\"ENERG_HI\"))\n",
    "        self.detchans = hdr[\"DETCHANS\"]\n",
    "        self.offset = 1#  self.__get_tlmin(h)\n",
    "        \n",
    "        self.n_grp, self.f_chan, self.n_chan, self.matrix = \\\n",
    "                self.__flatten_arrays(n_grp, f_chan, n_chan, matrix)\n",
    "        \n",
    "        return\n",
    "    \n",
    "    def __get_tlmin(self, h):\n",
    "        \"\"\"\n",
    "        Get the tlmin keyword for `F_CHAN`.\n",
    "        \n",
    "        Parameters\n",
    "        ----------\n",
    "        h : an astropy.io.fits.hdu.table.BinTableHDU object\n",
    "            The extension containing the `F_CHAN` column\n",
    "            \n",
    "        Returns\n",
    "        -------\n",
    "        tlmin : int\n",
    "            The tlmin keyword\n",
    "        \"\"\"\n",
    "        # get the header\n",
    "        hdr = h.header\n",
    "        # get the keys of all \n",
    "        keys = np.array(list(hdr.keys()))\n",
    "        \n",
    "        # find the place where the tlmin keyword is defined\n",
    "        t = np.array([\"TLMIN\" in k for k in keys])\n",
    "        \n",
    "        # get the index of the TLMIN keyword\n",
    "        tlmin_idx = np.hstack(np.where(t))[0]\n",
    "        \n",
    "        # get the corresponding value\n",
    "        tlmin = np.int(list(hdr.items())[tlmin_idx][1])\n",
    "        \n",
    "        return tlmin\n",
    "        \n",
    "    def __flatten_arrays(self, n_grp, f_chan, n_chan, matrix):\n",
    "        \n",
    "        # find all non-zero groups\n",
    "        nz_idx = (n_grp > 0)\n",
    "        \n",
    "        # stack all non-zero rows in the matrix\n",
    "        matrix_flat = np.hstack(matrix[nz_idx])\n",
    "        \n",
    "        # stack all nonzero rows in n_chan and f_chan\n",
    "        n_chan_flat = np.hstack(n_chan[nz_idx])\n",
    "        f_chan_flat = np.hstack(f_chan[nz_idx])\n",
    "        \n",
    "        return n_grp, f_chan_flat, n_chan_flat, matrix_flat\n",
    "            \n",
    "    def apply_rmf(self, spec):\n",
    "        \"\"\"\n",
    "        Fold the spectrum through the redistribution matrix.\n",
    "\n",
    "        The redistribution matrix is saved as a flattened 1-dimensional \n",
    "        vector to save space. In reality, for each entry in the flux \n",
    "        vector, there exists one or more sets of channels that this \n",
    "        flux is redistributed into. The additional arrays `n_grp`, \n",
    "        `f_chan` and `n_chan` store this information:\n",
    "            * `n_group` stores the number of channel groups for each \n",
    "              energy bin\n",
    "            * `f_chan` stores the *first channel* that each channel \n",
    "              for each channel set \n",
    "            * `n_chan` stores the number of channels in each channel \n",
    "              set \n",
    "              \n",
    "        As a result, for a given energy bin i, we need to look up the \n",
    "        number of channel sets in `n_grp` for that energy bin. We \n",
    "        then need to loop over the number of channel sets. For each \n",
    "        channel set, we look up the first channel into which flux \n",
    "        will be distributed as well as the number of channels in the \n",
    "        group. We then need to also loop over the these channels and \n",
    "        actually use the corresponding elements in the redistribution \n",
    "        matrix to redistribute the photon flux into channels. \n",
    "        \n",
    "        All of this is basically a big bookkeeping exercise in making \n",
    "        sure to get the indices right.\n",
    "        \n",
    "        Parameters\n",
    "        ----------\n",
    "        spec : numpy.ndarray\n",
    "            The (model) spectrum to be folded\n",
    "\n",
    "        Returns\n",
    "        -------\n",
    "        counts : numpy.ndarray\n",
    "            The (model) spectrum after folding, in \n",
    "            counts/s/channel\n",
    "\n",
    "        \"\"\"    \n",
    "        # get the number of channels in the data\n",
    "        nchannels = spec.shape[0]\n",
    "\n",
    "        # an empty array for the output counts\n",
    "        counts = np.zeros(nchannels)\n",
    "\n",
    "        # index for n_chan and f_chan incrementation\n",
    "        k = 0\n",
    "\n",
    "        # index for the response matrix incrementation\n",
    "        resp_idx = 0\n",
    "\n",
    "        # loop over all channels\n",
    "        for i in range(nchannels):\n",
    "\n",
    "            # this is the current bin in the flux spectrum to \n",
    "            # be folded\n",
    "            source_bin_i = spec[i]\n",
    "\n",
    "            # get the current number of groups \n",
    "            current_num_groups = self.n_grp[i]\n",
    "\n",
    "            # loop over the current number of groups\n",
    "            for j in range(current_num_groups):\n",
    "                \n",
    "                # get the right index for the start of the counts array \n",
    "                # to put the data into\n",
    "                counts_idx = int(self.f_chan[k] - self.offset)\n",
    "                \n",
    "                # this is the current number of channels to use\n",
    "                current_num_chans = int(self.n_chan[k])\n",
    "\n",
    "                # iterate k for next round\n",
    "                k += 1\n",
    "                \n",
    "                # add the flux to the subarray of the counts array that starts with \n",
    "                # counts_idx and runs over current_num_chans channels\n",
    "                counts[counts_idx:counts_idx+current_num_chans] = counts[counts_idx:counts_idx+current_num_chans] + \\\n",
    "                                                                  self.matrix[resp_idx:resp_idx+current_num_chans] * \\\n",
    "                                                                  np.float(source_bin_i)\n",
    "                # iterate the response index for next round\n",
    "                resp_idx += current_num_chans\n",
    "\n",
    "        return counts\n",
    "    "
   ]
  },
  {
   "cell_type": "markdown",
   "metadata": {
    "deletable": true,
    "editable": true
   },
   "source": [
    "Let's make an object of that class and then make another model with the RMF applied:"
   ]
  },
  {
   "cell_type": "code",
   "execution_count": 88,
   "metadata": {
    "collapsed": true,
    "deletable": true,
    "editable": true
   },
   "outputs": [],
   "source": [
    "rmf_new = RMF(datadir+\"rmfs/aciss_heg1_cy19.grmf\")\n",
    "m_rmf = rmf_new.apply_rmf(m_arf)"
   ]
  },
  {
   "cell_type": "markdown",
   "metadata": {
    "deletable": true,
    "editable": true
   },
   "source": [
    "Does this produce the same result as the vectorized function (it should)?"
   ]
  },
  {
   "cell_type": "code",
   "execution_count": 89,
   "metadata": {
    "collapsed": false,
    "deletable": true,
    "editable": true
   },
   "outputs": [
    {
     "data": {
      "text/plain": [
       "True"
      ]
     },
     "execution_count": 89,
     "metadata": {},
     "output_type": "execute_result"
    }
   ],
   "source": [
    "np.allclose(m_rmf, m_rmf_v)"
   ]
  },
  {
   "cell_type": "markdown",
   "metadata": {
    "deletable": true,
    "editable": true
   },
   "source": [
    "Hooray! What does the total spectrum look like?"
   ]
  },
  {
   "cell_type": "code",
   "execution_count": 90,
   "metadata": {
    "collapsed": false,
    "deletable": true,
    "editable": true
   },
   "outputs": [
    {
     "data": {
      "text/plain": [
       "[<matplotlib.lines.Line2D at 0x1187566d8>]"
      ]
     },
     "execution_count": 90,
     "metadata": {},
     "output_type": "execute_result"
    },
    {
     "data": {
      "image/png": "[encoded data removed]",
      "text/plain": [
       "<matplotlib.figure.Figure at 0x116c44438>"
      ]
     },
     "metadata": {},
     "output_type": "display_data"
    }
   ],
   "source": [
    "plt.figure()\n",
    "plt.plot(m_rmf)\n",
    "plt.plot(m_rmf_v)"
   ]
  },
  {
   "cell_type": "markdown",
   "metadata": {
    "deletable": true,
    "editable": true
   },
   "source": [
    "There is, of course, also an implementation in `clarsach`:"
   ]
  },
  {
   "cell_type": "code",
   "execution_count": 91,
   "metadata": {
    "collapsed": true,
    "deletable": true,
    "editable": true
   },
   "outputs": [],
   "source": [
    "from clarsach import respond"
   ]
  },
  {
   "cell_type": "code",
   "execution_count": 92,
   "metadata": {
    "collapsed": false,
    "deletable": true,
    "editable": true
   },
   "outputs": [],
   "source": [
    "rmf_c = respond.RMF(datadir+\"rmfs/aciss_heg1_cy19.grmf\")"
   ]
  },
  {
   "cell_type": "code",
   "execution_count": 93,
   "metadata": {
    "collapsed": true,
    "deletable": true,
    "editable": true
   },
   "outputs": [],
   "source": [
    "m_rmf_c = rmf_new.apply_rmf(m_arf)"
   ]
  },
  {
   "cell_type": "code",
   "execution_count": 94,
   "metadata": {
    "collapsed": false,
    "deletable": true,
    "editable": true
   },
   "outputs": [
    {
     "data": {
      "text/plain": [
       "True"
      ]
     },
     "execution_count": 94,
     "metadata": {},
     "output_type": "execute_result"
    }
   ],
   "source": [
    "np.allclose(m_rmf_c, m_rmf_v)"
   ]
  },
  {
   "cell_type": "markdown",
   "metadata": {
    "deletable": true,
    "editable": true
   },
   "source": [
    "It all works! Hooray! I think we've got a solution for Chandra/HETG!\n",
    "\n",
    "Let's make a final plot:"
   ]
  },
  {
   "cell_type": "code",
   "execution_count": 95,
   "metadata": {
    "collapsed": false
   },
   "outputs": [
    {
     "data": {
      "text/plain": [
       "[<matplotlib.lines.Line2D at 0x1174b6668>]"
      ]
     },
     "execution_count": 95,
     "metadata": {},
     "output_type": "execute_result"
    },
    {
     "data": {
      "image/png": "[encoded data removed]",
      "text/plain": [
       "<matplotlib.figure.Figure at 0x119792898>"
      ]
     },
     "metadata": {},
     "output_type": "display_data"
    }
   ],
   "source": [
    "plt.figure()\n",
    "plt.plot(bin_mid, counts, label=\"data\")\n",
    "plt.plot(bin_mid, m_rmf_c, label=\"model\")"
   ]
  },
  {
   "cell_type": "markdown",
   "metadata": {},
   "source": [
    "It all works! Woo!"
   ]
  },
  {
   "cell_type": "code",
   "execution_count": null,
   "metadata": {
    "collapsed": true
   },
   "outputs": [],
   "source": []
  },
  {
   "cell_type": "code",
   "execution_count": null,
   "metadata": {
    "collapsed": true
   },
   "outputs": [],
   "source": []
  }
 ],
 "metadata": {
  "kernelspec": {
   "display_name": "Python 3",
   "language": "python",
   "name": "python3"
  },
  "language_info": {
   "codemirror_mode": {
    "name": "ipython",
    "version": 3
   },
   "file_extension": ".py",
   "mimetype": "text/x-python",
   "name": "python",
   "nbconvert_exporter": "python",
   "pygments_lexer": "ipython3",
   "version": "3.5.3"
  }
 },
 "nbformat": 4,
 "nbformat_minor": 2
}
