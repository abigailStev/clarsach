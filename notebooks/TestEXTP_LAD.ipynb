{
 "cells": [
  {
   "cell_type": "markdown",
   "metadata": {
    "deletable": true,
    "editable": true
   },
   "source": [
    "# Testing Response Calculations for eXTP LAD\n",
    "\n",
    "Let's test our response calculations on eXTP LAD simulations!"
   ]
  },
  {
   "cell_type": "code",
   "execution_count": 1,
   "metadata": {
    "collapsed": false,
    "deletable": true,
    "editable": true
   },
   "outputs": [
    {
     "name": "stdout",
     "output_type": "stream",
     "text": [
      "WARNING: imaging routines will not be available, \n",
      "failed to import sherpa.image.ds9_backend due to \n",
      "'RuntimeErr: DS9Win unusable: Could not find ds9 on your PATH'\n",
      "WARNING: failed to import WCS module; WCS routines will not be available\n",
      "WARNING: failed to import sherpa.astro.xspec; XSPEC models will not be available\n"
     ]
    }
   ],
   "source": [
    "%matplotlib inline\n",
    "import matplotlib.pyplot as plt\n",
    "try:\n",
    "    import seaborn as sns\n",
    "except ImportError:\n",
    "    print(\"No seaborn installed. Oh well.\")\n",
    "    \n",
    "import numpy as np \n",
    "import pandas as pd\n",
    "import astropy.io.fits as fits\n",
    "import sherpa.astro.ui as ui\n",
    "import astropy.modeling.models as models\n",
    "from astropy.modeling.fitting import _fitter_to_model_params\n",
    "from scipy.special import gammaln as scipy_gammaln\n",
    "\n",
    "from clarsach.respond import RMF, ARF\n",
    "\n"
   ]
  },
  {
   "cell_type": "code",
   "execution_count": 2,
   "metadata": {
    "collapsed": true,
    "deletable": true,
    "editable": true
   },
   "outputs": [],
   "source": [
    "datadir = \"./\""
   ]
  },
  {
   "cell_type": "code",
   "execution_count": 3,
   "metadata": {
    "collapsed": false,
    "deletable": true,
    "editable": true
   },
   "outputs": [
    {
     "name": "stdout",
     "output_type": "stream",
     "text": [
      "read RMF file ./LAD_40mod_200eV_rbn.rsp\n"
     ]
    }
   ],
   "source": [
    "ui.load_data(id=\"p1\", filename=datadir+\"eXTP_LAD.fak\")"
   ]
  },
  {
   "cell_type": "code",
   "execution_count": 4,
   "metadata": {
    "collapsed": true,
    "deletable": true,
    "editable": true
   },
   "outputs": [],
   "source": [
    "d = ui.get_data(\"p1\")"
   ]
  },
  {
   "cell_type": "code",
   "execution_count": 5,
   "metadata": {
    "collapsed": false,
    "deletable": true,
    "editable": true
   },
   "outputs": [],
   "source": [
    "# conversion factor from keV to angstrom\n",
    "c = 12.3984191\n",
    "\n",
    "# This is the data in counts\n",
    "counts = d.counts\n",
    "channel = d.channel\n",
    "\n",
    "exposure = d.exposure"
   ]
  },
  {
   "cell_type": "code",
   "execution_count": 6,
   "metadata": {
    "collapsed": false,
    "deletable": true,
    "editable": true
   },
   "outputs": [
    {
     "data": {
      "text/plain": [
       "[<matplotlib.lines.Line2D at 0x114087ef0>]"
      ]
     },
     "execution_count": 6,
     "metadata": {},
     "output_type": "execute_result"
    },
    {
     "data": {
      "image/png": "[encoded data removed]",
      "text/plain": [
       "<matplotlib.figure.Figure at 0x10e435860>"
      ]
     },
     "metadata": {},
     "output_type": "display_data"
    }
   ],
   "source": [
    "plt.figure(figsize=(10,7))\n",
    "plt.plot(channel, counts)"
   ]
  },
  {
   "cell_type": "code",
   "execution_count": 7,
   "metadata": {
    "collapsed": false,
    "deletable": true,
    "editable": true
   },
   "outputs": [
    {
     "data": {
      "text/plain": [
       "'keV'"
      ]
     },
     "execution_count": 7,
     "metadata": {},
     "output_type": "execute_result"
    }
   ],
   "source": [
    "rmf_list = fits.open(datadir+\"LAD_40mod_200eV_rbn.rsp\")\n",
    "rmf_list[1].header[\"TUNIT2\"]"
   ]
  },
  {
   "cell_type": "code",
   "execution_count": 8,
   "metadata": {
    "collapsed": false,
    "deletable": true,
    "editable": true
   },
   "outputs": [
    {
     "name": "stdout",
     "output_type": "stream",
     "text": [
      "Filename: ./LAD_40mod_200eV_rbn.rsp\n",
      "No.    Name         Type      Cards   Dimensions   Format\n",
      "  0  PRIMARY     PrimaryHDU      10   ()      \n",
      "  1  MATRIX      BinTableHDU     61   2048R x 6C   [E, E, I, 2I, 2I, PE(135)]   \n",
      "  2  EBOUNDS     BinTableHDU     52   143R x 3C   [J, E, E]   \n"
     ]
    }
   ],
   "source": [
    "rmf_list.info()"
   ]
  },
  {
   "cell_type": "code",
   "execution_count": 9,
   "metadata": {
    "collapsed": false,
    "deletable": true,
    "editable": true
   },
   "outputs": [
    {
     "data": {
      "text/plain": [
       "ColDefs(\n",
       "    name = 'CHANNEL'; format = 'J'\n",
       "    name = 'E_MIN'; format = 'E'; unit = 'keV'\n",
       "    name = 'E_MAX'; format = 'E'; unit = 'keV'\n",
       ")"
      ]
     },
     "execution_count": 9,
     "metadata": {},
     "output_type": "execute_result"
    }
   ],
   "source": [
    "rmf_list[\"EBOUNDS\"].columns"
   ]
  },
  {
   "cell_type": "code",
   "execution_count": 10,
   "metadata": {
    "collapsed": false,
    "deletable": true,
    "editable": true
   },
   "outputs": [],
   "source": [
    "energ_lo = rmf_list[\"MATRIX\"].data.field(\"ENERG_LO\")\n",
    "energ_hi = rmf_list[\"MATRIX\"].data.field(\"ENERG_HI\")\n",
    "\n",
    "bin_lo = rmf_list[\"EBOUNDS\"].data.field(\"E_MIN\")\n",
    "bin_hi = rmf_list[\"EBOUNDS\"].data.field(\"E_MAX\")\n",
    "bin_mid = bin_lo + (bin_hi - bin_lo)/2."
   ]
  },
  {
   "cell_type": "code",
   "execution_count": 11,
   "metadata": {
    "collapsed": false,
    "deletable": true,
    "editable": true
   },
   "outputs": [
    {
     "data": {
      "text/plain": [
       "<DataRMF data set instance './LAD_40mod_200eV_rbn.rsp'>"
      ]
     },
     "execution_count": 11,
     "metadata": {},
     "output_type": "execute_result"
    }
   ],
   "source": [
    "rmf = d.get_rmf()\n",
    "rmf"
   ]
  },
  {
   "cell_type": "code",
   "execution_count": 12,
   "metadata": {
    "collapsed": true,
    "deletable": true,
    "editable": true
   },
   "outputs": [],
   "source": [
    "from clarsach.models.powerlaw import Powerlaw"
   ]
  },
  {
   "cell_type": "code",
   "execution_count": 13,
   "metadata": {
    "collapsed": true,
    "deletable": true,
    "editable": true
   },
   "outputs": [],
   "source": [
    "pl = Powerlaw(norm=1.0, phoindex=2.0)"
   ]
  },
  {
   "cell_type": "code",
   "execution_count": 14,
   "metadata": {
    "collapsed": true,
    "deletable": true,
    "editable": true
   },
   "outputs": [],
   "source": [
    "m = pl.calculate(ener_lo=energ_lo, ener_hi=energ_hi)"
   ]
  },
  {
   "cell_type": "code",
   "execution_count": 15,
   "metadata": {
    "collapsed": false,
    "deletable": true,
    "editable": true
   },
   "outputs": [
    {
     "data": {
      "text/plain": [
       "[<matplotlib.lines.Line2D at 0x113fbd780>]"
      ]
     },
     "execution_count": 15,
     "metadata": {},
     "output_type": "execute_result"
    },
    {
     "data": {
      "image/png": "[encoded data removed]",
      "text/plain": [
       "<matplotlib.figure.Figure at 0x113f26978>"
      ]
     },
     "metadata": {},
     "output_type": "display_data"
    }
   ],
   "source": [
    "plt.figure()\n",
    "plt.loglog(energ_lo, m)"
   ]
  },
  {
   "cell_type": "code",
   "execution_count": 16,
   "metadata": {
    "collapsed": false,
    "deletable": true,
    "editable": true
   },
   "outputs": [
    {
     "data": {
      "text/plain": [
       "2048"
      ]
     },
     "execution_count": 16,
     "metadata": {},
     "output_type": "execute_result"
    }
   ],
   "source": [
    "len(m)"
   ]
  },
  {
   "cell_type": "code",
   "execution_count": 17,
   "metadata": {
    "collapsed": false,
    "deletable": true,
    "editable": true
   },
   "outputs": [],
   "source": [
    "m_rmf = rmf.apply_rmf(m)"
   ]
  },
  {
   "cell_type": "code",
   "execution_count": 18,
   "metadata": {
    "collapsed": false,
    "deletable": true,
    "editable": true
   },
   "outputs": [
    {
     "data": {
      "text/plain": [
       "<matplotlib.legend.Legend at 0x114670f60>"
      ]
     },
     "execution_count": 18,
     "metadata": {},
     "output_type": "execute_result"
    },
    {
     "data": {
      "image/png": "[encoded data removed]",
      "text/plain": [
       "<matplotlib.figure.Figure at 0x113fc7860>"
      ]
     },
     "metadata": {},
     "output_type": "display_data"
    }
   ],
   "source": [
    "plt.figure()\n",
    "plt.plot(bin_mid, counts, label=\"data\")\n",
    "plt.plot(bin_mid, m_rmf*1e5, label=\"model with RMF\")\n",
    "plt.legend()"
   ]
  },
  {
   "cell_type": "code",
   "execution_count": 19,
   "metadata": {
    "collapsed": true,
    "deletable": true,
    "editable": true
   },
   "outputs": [],
   "source": [
    "class PoissonLikelihood(object):\n",
    "    \n",
    "    def __init__(self, x_low, x_high, y, model, arf=None, rmf=None, exposure=1.0):\n",
    "        self.x_low = x_low\n",
    "        self.x_high = x_high\n",
    "        self.y = y\n",
    "        self.model = model\n",
    "        self.arf = arf\n",
    "        self.rmf = rmf\n",
    "        self.exposure = exposure\n",
    "        \n",
    "    def evaluate(self, pars):\n",
    "        # store the new parameters in the model\n",
    "\n",
    "        self.model.norm = pars[0]\n",
    "        self.model.phoindex = pars[1]\n",
    "        \n",
    "        # evaluate the model at the positions x\n",
    "        mean_model = self.model.calculate(self.x_low, self.x_high)\n",
    "\n",
    "        # run the ARF and RMF calculations\n",
    "        if self.arf is not None:\n",
    "            m_arf = self.arf.apply_arf(mean_model)\n",
    "            \n",
    "        else:\n",
    "            m_arf = mean_model\n",
    "            \n",
    "        if self.rmf is not None:\n",
    "            ymodel = self.rmf.apply_rmf(m_arf)\n",
    "        else:\n",
    "            ymodel = mean_model\n",
    "                \n",
    "        ymodel += 1e-20\n",
    "        \n",
    "        ymodel *= self.exposure\n",
    "        # compute the log-likelihood\n",
    "        loglike = np.sum(-ymodel + self.y*np.log(ymodel) \\\n",
    "               - scipy_gammaln(self.y + 1.))\n",
    "\n",
    "        if np.isfinite(loglike):\n",
    "            return loglike\n",
    "        else:\n",
    "            return -1.e16\n",
    "\n",
    "    def __call__(self, pars):\n",
    "        l = -self.evaluate(pars)\n",
    "        #print(l)\n",
    "        return l\n",
    "\n"
   ]
  },
  {
   "cell_type": "code",
   "execution_count": 20,
   "metadata": {
    "collapsed": false,
    "deletable": true,
    "editable": true
   },
   "outputs": [
    {
     "data": {
      "text/plain": [
       "1252.2741299574845"
      ]
     },
     "execution_count": 20,
     "metadata": {},
     "output_type": "execute_result"
    }
   ],
   "source": [
    "loglike = PoissonLikelihood(energ_lo, energ_hi, counts, pl, arf=None, rmf=rmf, exposure=exposure)\n",
    "loglike([1.0, 2.0])"
   ]
  },
  {
   "cell_type": "code",
   "execution_count": 21,
   "metadata": {
    "collapsed": true,
    "deletable": true,
    "editable": true
   },
   "outputs": [],
   "source": [
    "from scipy.optimize import minimize"
   ]
  },
  {
   "cell_type": "code",
   "execution_count": 22,
   "metadata": {
    "collapsed": false,
    "deletable": true,
    "editable": true
   },
   "outputs": [],
   "source": [
    "opt = minimize(loglike, [1.0, 2.0], method=\"powell\")"
   ]
  },
  {
   "cell_type": "code",
   "execution_count": 23,
   "metadata": {
    "collapsed": false,
    "deletable": true,
    "editable": true
   },
   "outputs": [
    {
     "data": {
      "text/plain": [
       "   direc: array([[ 1.,  0.],\n",
       "       [ 0.,  1.]])\n",
       "     fun: 1249.8817882679286\n",
       " message: 'Optimization terminated successfully.'\n",
       "    nfev: 88\n",
       "     nit: 2\n",
       "  status: 0\n",
       " success: True\n",
       "       x: array([ 0.99995508,  2.00002944])"
      ]
     },
     "execution_count": 23,
     "metadata": {},
     "output_type": "execute_result"
    }
   ],
   "source": [
    "opt"
   ]
  },
  {
   "cell_type": "code",
   "execution_count": 24,
   "metadata": {
    "collapsed": true,
    "deletable": true,
    "editable": true
   },
   "outputs": [],
   "source": [
    "m_fit = pl.calculate(energ_lo, energ_hi)\n",
    "m_fit_rmf = rmf.apply_rmf(m_fit) * exposure"
   ]
  },
  {
   "cell_type": "code",
   "execution_count": 25,
   "metadata": {
    "collapsed": false,
    "deletable": true,
    "editable": true
   },
   "outputs": [
    {
     "data": {
      "text/plain": [
       "<matplotlib.legend.Legend at 0x113f3cf98>"
      ]
     },
     "execution_count": 25,
     "metadata": {},
     "output_type": "execute_result"
    },
    {
     "data": {
      "image/png": "[encoded data removed]",
      "text/plain": [
       "<matplotlib.figure.Figure at 0x11366bb38>"
      ]
     },
     "metadata": {},
     "output_type": "display_data"
    }
   ],
   "source": [
    "plt.figure()\n",
    "plt.plot(bin_mid, counts, label=\"data\")\n",
    "plt.plot(bin_mid, m_fit_rmf, label=\"model with ARF\")\n",
    "plt.legend()"
   ]
  },
  {
   "cell_type": "code",
   "execution_count": 26,
   "metadata": {
    "collapsed": true,
    "deletable": true,
    "editable": true
   },
   "outputs": [],
   "source": [
    "def rmf_fold(spec, rmf, nchannels=None):\n",
    "    \n",
    "    #current_num_groups = 0\n",
    "    #current_num_chans = 0\n",
    "    \n",
    "    nchannels = spec.shape[0]\n",
    "    \n",
    "    resp_idx = 0\n",
    "    first_chan_idx = 0\n",
    "    num_chans_idx =0\n",
    "    counts_idx = 0\n",
    "    \n",
    "    counts = np.zeros(nchannels)\n",
    "    \n",
    "    for i in range(nchannels):\n",
    "        source_bin_i = spec[i]\n",
    "        current_num_groups = rmf.n_grp[i]\n",
    "        \n",
    "        while current_num_groups:\n",
    "            counts_idx = int(rmf.f_chan[first_chan_idx] - rmf.offset)\n",
    "            current_num_chans = rmf.n_chan[num_chans_idx]\n",
    "            \n",
    "            first_chan_idx += 1\n",
    "            num_chans_idx +=1 \n",
    "            \n",
    "            while current_num_chans:\n",
    "                counts[counts_idx] += rmf.matrix[resp_idx] * source_bin_i\n",
    "                counts_idx += 1\n",
    "                resp_idx += 1\n",
    "                current_num_chans -= 1\n",
    "            \n",
    "            current_num_groups -= 1\n",
    "            \n",
    "    return counts\n"
   ]
  },
  {
   "cell_type": "code",
   "execution_count": 27,
   "metadata": {
    "collapsed": true,
    "deletable": true,
    "editable": true
   },
   "outputs": [],
   "source": [
    "def rmf_fold_vector(spec, rmf, nchannels=None):\n",
    "    \"\"\"\n",
    "    Fold the spectrum through the redistribution matrix.\n",
    "    \n",
    "    Parameters\n",
    "    ----------\n",
    "    spec : numpy.ndarray\n",
    "        The (model) spectrum to be folded\n",
    "        \n",
    "    rmf : sherpa.RMFData object\n",
    "        The object with the RMF data\n",
    "    \n",
    "    \"\"\"    \n",
    "    # get the number of channels in the data\n",
    "    nchannels = spec.shape[0]\n",
    "    print('len(nchannels): ' + str(nchannels))\n",
    "\n",
    "    # an empty array for the output counts\n",
    "    counts = np.zeros(nchannels)\n",
    "    \n",
    "    # index for n_chan and f_chan incrementation\n",
    "    k = 0\n",
    "    \n",
    "    # index for the response matrix incrementation\n",
    "    resp_idx = 0\n",
    "\n",
    "    # loop over all channels\n",
    "    for i in range(nchannels):\n",
    "        \n",
    "        # this is the current bin in the flux spectrum to \n",
    "        # be folded\n",
    "        source_bin_i = spec[i]\n",
    "        \n",
    "        # get the current number of groups \n",
    "        current_num_groups = rmf.n_grp[i]\n",
    "        \n",
    "        for j in range(current_num_groups):\n",
    "            counts_idx = int(rmf.f_chan[k] - rmf.offset)\n",
    "            current_num_chans = int(rmf.n_chan[k])\n",
    "            \n",
    "            k += 1\n",
    "            \n",
    "            counts[counts_idx:counts_idx+current_num_chans] += rmf.matrix[resp_idx:resp_idx+current_num_chans] * source_bin_i\n",
    "            resp_idx += current_num_chans\n",
    "            \n",
    "    return counts\n",
    "\n",
    "\n"
   ]
  },
  {
   "cell_type": "code",
   "execution_count": 28,
   "metadata": {
    "collapsed": false,
    "deletable": true,
    "editable": true
   },
   "outputs": [
    {
     "name": "stdout",
     "output_type": "stream",
     "text": [
      "10 loops, best of 3: 114 ms per loop\n"
     ]
    }
   ],
   "source": [
    "# not vectorized version\n",
    "m_rmf = rmf_fold(m, rmf)\n",
    "%timeit m_rmf = rmf_fold(m, rmf)"
   ]
  },
  {
   "cell_type": "code",
   "execution_count": 29,
   "metadata": {
    "collapsed": false,
    "deletable": true,
    "editable": true
   },
   "outputs": [
    {
     "name": "stdout",
     "output_type": "stream",
     "text": [
      "len(nchannels): 2048\n",
      "len(nchannels): 2048\n",
      "len(nchannels): 2048\n",
      "len(nchannels): 2048\n",
      "len(nchannels): 2048\n",
      "len(nchannels): 2048\n",
      "len(nchannels): 2048\n",
      "len(nchannels): 2048\n",
      "len(nchannels): 2048\n",
      "len(nchannels): 2048\n",
      "len(nchannels): 2048\n",
      "len(nchannels): 2048\n",
      "len(nchannels): 2048\n",
      "len(nchannels): 2048\n",
      "len(nchannels): 2048\n",
      "len(nchannels): 2048\n",
      "len(nchannels): 2048\n",
      "len(nchannels): 2048\n",
      "len(nchannels): 2048\n",
      "len(nchannels): 2048\n",
      "len(nchannels): 2048\n",
      "len(nchannels): 2048\n",
      "len(nchannels): 2048\n",
      "len(nchannels): 2048\n",
      "len(nchannels): 2048\n",
      "len(nchannels): 2048\n",
      "len(nchannels): 2048\n",
      "len(nchannels): 2048\n",
      "len(nchannels): 2048\n",
      "len(nchannels): 2048\n",
      "len(nchannels): 2048\n",
      "len(nchannels): 2048\n",
      "len(nchannels): 2048\n",
      "len(nchannels): 2048\n",
      "len(nchannels): 2048\n",
      "len(nchannels): 2048\n",
      "len(nchannels): 2048\n",
      "len(nchannels): 2048\n",
      "len(nchannels): 2048\n",
      "len(nchannels): 2048\n",
      "len(nchannels): 2048\n",
      "len(nchannels): 2048\n",
      "len(nchannels): 2048\n",
      "len(nchannels): 2048\n",
      "len(nchannels): 2048\n",
      "len(nchannels): 2048\n",
      "len(nchannels): 2048\n",
      "len(nchannels): 2048\n",
      "len(nchannels): 2048\n",
      "len(nchannels): 2048\n",
      "len(nchannels): 2048\n",
      "len(nchannels): 2048\n",
      "len(nchannels): 2048\n",
      "len(nchannels): 2048\n",
      "len(nchannels): 2048\n",
      "len(nchannels): 2048\n",
      "len(nchannels): 2048\n",
      "len(nchannels): 2048\n",
      "len(nchannels): 2048\n",
      "len(nchannels): 2048\n",
      "len(nchannels): 2048\n",
      "len(nchannels): 2048\n",
      "len(nchannels): 2048\n",
      "len(nchannels): 2048\n",
      "len(nchannels): 2048\n",
      "len(nchannels): 2048\n",
      "len(nchannels): 2048\n",
      "len(nchannels): 2048\n",
      "len(nchannels): 2048\n",
      "len(nchannels): 2048\n",
      "len(nchannels): 2048\n",
      "len(nchannels): 2048\n",
      "len(nchannels): 2048\n",
      "len(nchannels): 2048\n",
      "len(nchannels): 2048\n",
      "len(nchannels): 2048\n",
      "len(nchannels): 2048\n",
      "len(nchannels): 2048\n",
      "len(nchannels): 2048\n",
      "len(nchannels): 2048\n",
      "len(nchannels): 2048\n",
      "len(nchannels): 2048\n",
      "len(nchannels): 2048\n",
      "len(nchannels): 2048\n",
      "len(nchannels): 2048\n",
      "len(nchannels): 2048\n",
      "len(nchannels): 2048\n",
      "len(nchannels): 2048\n",
      "len(nchannels): 2048\n",
      "len(nchannels): 2048\n",
      "len(nchannels): 2048\n",
      "len(nchannels): 2048\n",
      "len(nchannels): 2048\n",
      "len(nchannels): 2048\n",
      "len(nchannels): 2048\n",
      "len(nchannels): 2048\n",
      "len(nchannels): 2048\n",
      "len(nchannels): 2048\n",
      "len(nchannels): 2048\n",
      "len(nchannels): 2048\n",
      "len(nchannels): 2048\n",
      "len(nchannels): 2048\n",
      "len(nchannels): 2048\n",
      "len(nchannels): 2048\n",
      "len(nchannels): 2048\n",
      "len(nchannels): 2048\n",
      "len(nchannels): 2048\n",
      "len(nchannels): 2048\n",
      "len(nchannels): 2048\n",
      "len(nchannels): 2048\n",
      "len(nchannels): 2048\n",
      "len(nchannels): 2048\n",
      "len(nchannels): 2048\n",
      "len(nchannels): 2048\n",
      "len(nchannels): 2048\n",
      "len(nchannels): 2048\n",
      "len(nchannels): 2048\n",
      "len(nchannels): 2048\n",
      "len(nchannels): 2048\n",
      "len(nchannels): 2048\n",
      "len(nchannels): 2048\n",
      "len(nchannels): 2048\n",
      "len(nchannels): 2048\n",
      "len(nchannels): 2048\n",
      "len(nchannels): 2048\n",
      "len(nchannels): 2048\n",
      "len(nchannels): 2048\n",
      "len(nchannels): 2048\n",
      "len(nchannels): 2048\n",
      "len(nchannels): 2048\n",
      "len(nchannels): 2048\n",
      "len(nchannels): 2048\n",
      "len(nchannels): 2048\n",
      "len(nchannels): 2048\n",
      "len(nchannels): 2048\n",
      "len(nchannels): 2048\n",
      "len(nchannels): 2048\n",
      "len(nchannels): 2048\n",
      "len(nchannels): 2048\n",
      "len(nchannels): 2048\n",
      "len(nchannels): 2048\n",
      "len(nchannels): 2048\n",
      "len(nchannels): 2048\n",
      "len(nchannels): 2048\n",
      "len(nchannels): 2048\n",
      "len(nchannels): 2048\n",
      "len(nchannels): 2048\n",
      "len(nchannels): 2048\n",
      "len(nchannels): 2048\n",
      "len(nchannels): 2048\n",
      "len(nchannels): 2048\n",
      "len(nchannels): 2048\n",
      "len(nchannels): 2048\n",
      "len(nchannels): 2048\n",
      "len(nchannels): 2048\n",
      "len(nchannels): 2048\n",
      "len(nchannels): 2048\n",
      "len(nchannels): 2048\n",
      "len(nchannels): 2048\n",
      "len(nchannels): 2048\n",
      "len(nchannels): 2048\n",
      "len(nchannels): 2048\n",
      "len(nchannels): 2048\n",
      "len(nchannels): 2048\n",
      "len(nchannels): 2048\n",
      "len(nchannels): 2048\n",
      "len(nchannels): 2048\n",
      "len(nchannels): 2048\n",
      "len(nchannels): 2048\n",
      "len(nchannels): 2048\n",
      "len(nchannels): 2048\n",
      "len(nchannels): 2048\n",
      "len(nchannels): 2048\n",
      "len(nchannels): 2048\n",
      "len(nchannels): 2048\n",
      "len(nchannels): 2048\n",
      "len(nchannels): 2048\n",
      "len(nchannels): 2048\n",
      "len(nchannels): 2048\n",
      "len(nchannels): 2048\n",
      "len(nchannels): 2048\n",
      "len(nchannels): 2048\n",
      "len(nchannels): 2048\n",
      "len(nchannels): 2048\n",
      "len(nchannels): 2048\n",
      "len(nchannels): 2048\n",
      "len(nchannels): 2048\n",
      "len(nchannels): 2048\n",
      "len(nchannels): 2048\n",
      "len(nchannels): 2048\n",
      "len(nchannels): 2048\n",
      "len(nchannels): 2048\n",
      "len(nchannels): 2048\n",
      "len(nchannels): 2048\n",
      "len(nchannels): 2048\n",
      "len(nchannels): 2048\n",
      "len(nchannels): 2048\n",
      "len(nchannels): 2048\n",
      "len(nchannels): 2048\n",
      "len(nchannels): 2048\n",
      "len(nchannels): 2048\n",
      "len(nchannels): 2048\n",
      "len(nchannels): 2048\n",
      "len(nchannels): 2048\n",
      "len(nchannels): 2048\n",
      "len(nchannels): 2048\n",
      "len(nchannels): 2048\n",
      "len(nchannels): 2048\n",
      "len(nchannels): 2048\n",
      "len(nchannels): 2048\n",
      "len(nchannels): 2048\n",
      "len(nchannels): 2048\n",
      "len(nchannels): 2048\n",
      "len(nchannels): 2048\n",
      "len(nchannels): 2048\n",
      "len(nchannels): 2048\n",
      "len(nchannels): 2048\n",
      "len(nchannels): 2048\n",
      "len(nchannels): 2048\n",
      "len(nchannels): 2048\n",
      "len(nchannels): 2048\n",
      "len(nchannels): 2048\n",
      "len(nchannels): 2048\n",
      "len(nchannels): 2048\n",
      "len(nchannels): 2048\n",
      "len(nchannels): 2048\n",
      "len(nchannels): 2048\n",
      "len(nchannels): 2048\n",
      "len(nchannels): 2048\n",
      "len(nchannels): 2048\n",
      "len(nchannels): 2048\n",
      "len(nchannels): 2048\n",
      "len(nchannels): 2048\n",
      "len(nchannels): 2048\n",
      "len(nchannels): 2048\n",
      "len(nchannels): 2048\n",
      "len(nchannels): 2048\n",
      "len(nchannels): 2048\n",
      "len(nchannels): 2048\n",
      "len(nchannels): 2048\n",
      "len(nchannels): 2048\n",
      "len(nchannels): 2048\n",
      "len(nchannels): 2048\n",
      "len(nchannels): 2048\n",
      "len(nchannels): 2048\n",
      "len(nchannels): 2048\n",
      "len(nchannels): 2048\n",
      "len(nchannels): 2048\n",
      "len(nchannels): 2048\n",
      "len(nchannels): 2048\n",
      "len(nchannels): 2048\n",
      "len(nchannels): 2048\n",
      "len(nchannels): 2048\n",
      "len(nchannels): 2048\n",
      "len(nchannels): 2048\n",
      "len(nchannels): 2048\n",
      "len(nchannels): 2048\n",
      "len(nchannels): 2048\n",
      "len(nchannels): 2048\n",
      "len(nchannels): 2048\n",
      "len(nchannels): 2048\n",
      "len(nchannels): 2048\n",
      "len(nchannels): 2048\n",
      "len(nchannels): 2048\n",
      "len(nchannels): 2048\n",
      "len(nchannels): 2048\n",
      "len(nchannels): 2048\n",
      "len(nchannels): 2048\n",
      "len(nchannels): 2048\n",
      "len(nchannels): 2048\n",
      "len(nchannels): 2048\n",
      "len(nchannels): 2048\n",
      "len(nchannels): 2048\n",
      "len(nchannels): 2048\n",
      "len(nchannels): 2048\n",
      "len(nchannels): 2048\n",
      "len(nchannels): 2048\n",
      "len(nchannels): 2048\n",
      "len(nchannels): 2048\n",
      "len(nchannels): 2048\n",
      "len(nchannels): 2048\n",
      "len(nchannels): 2048\n",
      "len(nchannels): 2048\n",
      "len(nchannels): 2048\n",
      "len(nchannels): 2048\n",
      "len(nchannels): 2048\n",
      "len(nchannels): 2048\n",
      "len(nchannels): 2048\n",
      "len(nchannels): 2048\n",
      "len(nchannels): 2048\n",
      "len(nchannels): 2048\n",
      "len(nchannels): 2048\n",
      "len(nchannels): 2048\n",
      "len(nchannels): 2048\n",
      "len(nchannels): 2048\n",
      "len(nchannels): 2048\n",
      "len(nchannels): 2048\n",
      "len(nchannels): 2048\n",
      "len(nchannels): 2048\n",
      "len(nchannels): 2048\n",
      "len(nchannels): 2048\n",
      "len(nchannels): 2048\n",
      "len(nchannels): 2048\n",
      "len(nchannels): 2048\n",
      "len(nchannels): 2048\n",
      "len(nchannels): 2048\n",
      "len(nchannels): 2048\n",
      "len(nchannels): 2048\n",
      "len(nchannels): 2048\n",
      "len(nchannels): 2048\n",
      "len(nchannels): 2048\n",
      "len(nchannels): 2048\n",
      "len(nchannels): 2048\n",
      "len(nchannels): 2048\n",
      "len(nchannels): 2048\n",
      "len(nchannels): 2048\n",
      "len(nchannels): 2048\n",
      "len(nchannels): 2048\n",
      "len(nchannels): 2048\n",
      "len(nchannels): 2048\n",
      "len(nchannels): 2048\n",
      "len(nchannels): 2048\n",
      "len(nchannels): 2048\n",
      "len(nchannels): 2048\n",
      "len(nchannels): 2048\n",
      "len(nchannels): 2048\n",
      "len(nchannels): 2048\n",
      "len(nchannels): 2048\n",
      "len(nchannels): 2048\n",
      "len(nchannels): 2048\n",
      "len(nchannels): 2048\n",
      "len(nchannels): 2048\n",
      "len(nchannels): 2048\n",
      "len(nchannels): 2048\n",
      "len(nchannels): 2048\n",
      "len(nchannels): 2048\n",
      "len(nchannels): 2048\n",
      "len(nchannels): 2048\n",
      "len(nchannels): 2048\n",
      "len(nchannels): 2048\n",
      "len(nchannels): 2048\n",
      "len(nchannels): 2048\n",
      "len(nchannels): 2048\n",
      "len(nchannels): 2048\n",
      "len(nchannels): 2048\n",
      "len(nchannels): 2048\n",
      "len(nchannels): 2048\n",
      "len(nchannels): 2048\n",
      "len(nchannels): 2048\n",
      "len(nchannels): 2048\n",
      "len(nchannels): 2048\n",
      "len(nchannels): 2048\n",
      "len(nchannels): 2048\n",
      "len(nchannels): 2048\n",
      "len(nchannels): 2048\n",
      "len(nchannels): 2048\n",
      "len(nchannels): 2048\n",
      "len(nchannels): 2048\n",
      "len(nchannels): 2048\n",
      "len(nchannels): 2048\n",
      "len(nchannels): 2048\n",
      "len(nchannels): 2048\n",
      "len(nchannels): 2048\n",
      "len(nchannels): 2048\n",
      "len(nchannels): 2048\n",
      "len(nchannels): 2048\n",
      "len(nchannels): 2048\n",
      "len(nchannels): 2048\n",
      "len(nchannels): 2048\n",
      "len(nchannels): 2048\n",
      "len(nchannels): 2048\n",
      "len(nchannels): 2048\n",
      "len(nchannels): 2048\n",
      "len(nchannels): 2048\n",
      "len(nchannels): 2048\n",
      "len(nchannels): 2048\n",
      "len(nchannels): 2048\n",
      "len(nchannels): 2048\n",
      "len(nchannels): 2048\n",
      "len(nchannels): 2048\n",
      "len(nchannels): 2048\n",
      "len(nchannels): 2048\n",
      "len(nchannels): 2048\n",
      "len(nchannels): 2048\n",
      "len(nchannels): 2048\n",
      "len(nchannels): 2048\n",
      "len(nchannels): 2048\n",
      "len(nchannels): 2048\n",
      "len(nchannels): 2048\n",
      "len(nchannels): 2048\n",
      "len(nchannels): 2048\n",
      "len(nchannels): 2048\n",
      "len(nchannels): 2048\n",
      "len(nchannels): 2048\n",
      "len(nchannels): 2048\n",
      "len(nchannels): 2048\n",
      "len(nchannels): 2048\n",
      "len(nchannels): 2048\n",
      "len(nchannels): 2048\n",
      "len(nchannels): 2048\n",
      "len(nchannels): 2048\n",
      "len(nchannels): 2048\n",
      "len(nchannels): 2048\n",
      "len(nchannels): 2048\n",
      "len(nchannels): 2048\n",
      "len(nchannels): 2048\n",
      "len(nchannels): 2048\n",
      "len(nchannels): 2048\n",
      "len(nchannels): 2048\n",
      "len(nchannels): 2048\n",
      "len(nchannels): 2048\n",
      "len(nchannels): 2048\n",
      "100 loops, best of 3: 10.9 ms per loop\n"
     ]
    }
   ],
   "source": [
    "# vectorized version\n",
    "m_rmf_v = rmf_fold_vector(m, rmf)\n",
    "%timeit m_rmf_v = rmf_fold_vector(m, rmf)"
   ]
  },
  {
   "cell_type": "code",
   "execution_count": 30,
   "metadata": {
    "collapsed": false,
    "deletable": true,
    "editable": true
   },
   "outputs": [
    {
     "name": "stdout",
     "output_type": "stream",
     "text": [
      "10000 loops, best of 3: 118 µs per loop\n"
     ]
    }
   ],
   "source": [
    "# C++ (sherpa) version\n",
    "m_rmf2 = rmf.apply_rmf(m)\n",
    "%timeit m_rmf2 = rmf.apply_rmf(m)"
   ]
  },
  {
   "cell_type": "code",
   "execution_count": 31,
   "metadata": {
    "collapsed": false,
    "deletable": true,
    "editable": true
   },
   "outputs": [
    {
     "data": {
      "text/plain": [
       "True"
      ]
     },
     "execution_count": 31,
     "metadata": {},
     "output_type": "execute_result"
    }
   ],
   "source": [
    "np.allclose(m_rmf_v[:len(m_rmf2)], m_rmf2)"
   ]
  },
  {
   "cell_type": "code",
   "execution_count": 32,
   "metadata": {
    "collapsed": false,
    "deletable": true,
    "editable": true
   },
   "outputs": [
    {
     "data": {
      "text/plain": [
       "True"
      ]
     },
     "execution_count": 32,
     "metadata": {},
     "output_type": "execute_result"
    }
   ],
   "source": [
    "np.allclose(m_rmf[:len(m_rmf2)], m_rmf2)"
   ]
  },
  {
   "cell_type": "code",
   "execution_count": 33,
   "metadata": {
    "collapsed": true,
    "deletable": true,
    "editable": true
   },
   "outputs": [],
   "source": [
    "class RMF(object):\n",
    "    \n",
    "    def __init__(self, filename):\n",
    "        \n",
    "        self._load_rmf(filename)\n",
    "        pass\n",
    "    \n",
    "    def _load_rmf(self, filename):\n",
    "        \"\"\"\n",
    "        Load an RMF from a FITS file.\n",
    "        \n",
    "        Parameters\n",
    "        ----------\n",
    "        filename : str\n",
    "            The file name with the RMF file\n",
    "            \n",
    "        Attributes\n",
    "        ----------\n",
    "        n_grp : numpy.ndarray\n",
    "            the Array with the number of channels in each \n",
    "            channel set\n",
    "        \n",
    "        f_chan : numpy.ndarray\n",
    "            The starting channel for each channel group;\n",
    "            If an element i in n_grp > 1, then the resulting \n",
    "            row entry in f_chan will be a list of length n_grp[i];\n",
    "            otherwise it will be a single number\n",
    "            \n",
    "        n_chan : numpy.ndarray\n",
    "            The number of channels in each channel group. The same \n",
    "            logic as for f_chan applies\n",
    "            \n",
    "        matrix : numpy.ndarray\n",
    "            The redistribution matrix as a flattened 1D vector\n",
    "            \n",
    "        energ_lo : numpy.ndarray\n",
    "            The lower edges of the energy bins\n",
    "        \n",
    "        energ_hi : numpy.ndarray\n",
    "            The upper edges of the energy bins\n",
    "            \n",
    "        detchans : int\n",
    "            The number of channels in the detector\n",
    "        \n",
    "        \"\"\"\n",
    "        # open the FITS file and extract the MATRIX extension\n",
    "        # which contains the redistribution matrix and \n",
    "        # anxillary information\n",
    "        hdulist = fits.open(filename)\n",
    "\n",
    "        # get all the extension names\n",
    "        extnames = np.array([h.name for h in hdulist])\n",
    "\n",
    "        # figure out the right extension to use\n",
    "        if \"MATRIX\" in extnames:\n",
    "            h = hdulist[\"MATRIX\"]\n",
    "\n",
    "        elif \"SPECRESP MATRIX\" in extnames:\n",
    "            h = hdulist[\"SPECRESP MATRIX\"]\n",
    "\n",
    "        data = h.data\n",
    "        hdr = h.header\n",
    "        hdulist.close()\n",
    "        \n",
    "        # extract + store the attributes described in the docstring \n",
    "        n_grp = np.array(data.field(\"N_GRP\"))\n",
    "        f_chan = np.array(data.field('F_CHAN'))\n",
    "        n_chan = np.array(data.field(\"N_CHAN\"))\n",
    "        matrix = np.array(data.field(\"MATRIX\"))\n",
    "\n",
    "        self.energ_lo = np.array(data.field(\"ENERG_LO\"))\n",
    "        self.energ_hi = np.array(data.field(\"ENERG_HI\"))\n",
    "        self.detchans = hdr[\"DETCHANS\"]\n",
    "        self.offset = self.__get_tlmin(h)\n",
    "\n",
    "        # flatten the variable-length arrays\n",
    "        self.n_grp, self.f_chan, self.n_chan, self.matrix = \\\n",
    "                self.__flatten_arrays(n_grp, f_chan, n_chan, matrix)\n",
    "        \n",
    "        return\n",
    "    \n",
    "    def __get_tlmin(self, h):\n",
    "        \"\"\"\n",
    "        Get the tlmin keyword for `F_CHAN`.\n",
    "        \n",
    "        Parameters\n",
    "        ----------\n",
    "        h : an astropy.io.fits.hdu.table.BinTableHDU object\n",
    "            The extension containing the `F_CHAN` column\n",
    "            \n",
    "        Returns\n",
    "        -------\n",
    "        tlmin : int\n",
    "            The tlmin keyword\n",
    "        \"\"\"\n",
    "        # get the header\n",
    "        hdr = h.header\n",
    "        # get the keys of all \n",
    "        keys = np.array(list(hdr.keys()))\n",
    "        \n",
    "        # find the place where the tlmin keyword is defined\n",
    "        t = np.array([\"TLMIN\" in k for k in keys])\n",
    "        \n",
    "        # get the index of the TLMIN keyword\n",
    "        tlmin_idx = np.hstack(np.where(t))[0]\n",
    "        \n",
    "        # get the corresponding value\n",
    "        tlmin = np.int(list(hdr.items())[tlmin_idx][1])\n",
    "        \n",
    "        return tlmin\n",
    "        \n",
    "    def __flatten_arrays(self, n_grp, f_chan, n_chan, matrix):\n",
    "        \n",
    "        # find all non-zero groups\n",
    "        nz_idx = (n_grp > 0)\n",
    "        \n",
    "        # stack all non-zero rows in the matrix\n",
    "        matrix_flat = np.hstack(matrix[nz_idx])\n",
    "        \n",
    "        # stack all nonzero rows in n_chan and f_chan\n",
    "        n_chan_flat = np.hstack(n_chan[nz_idx])\n",
    "        f_chan_flat = np.hstack(f_chan[nz_idx])\n",
    "        \n",
    "        nz_idx2 = (n_chan_flat > 0)\n",
    "        n_chan_flat = n_chan_flat[nz_idx2]\n",
    "        f_chan_flat = f_chan_flat[nz_idx2]\n",
    "        \n",
    "        return n_grp, f_chan_flat, n_chan_flat, matrix_flat\n",
    "            \n",
    "    def apply_rmf(self, spec):\n",
    "        \"\"\"\n",
    "        Fold the spectrum through the redistribution matrix.\n",
    "\n",
    "        The redistribution matrix is saved as a flattened 1-dimensional \n",
    "        vector to save space. In reality, for each entry in the flux \n",
    "        vector, there exists one or more sets of channels that this \n",
    "        flux is redistributed into. The additional arrays `n_grp`, \n",
    "        `f_chan` and `n_chan` store this information:\n",
    "            * `n_group` stores the number of channel groups for each \n",
    "              energy bin\n",
    "            * `f_chan` stores the *first channel* that each channel \n",
    "              for each channel set \n",
    "            * `n_chan` stores the number of channels in each channel \n",
    "              set \n",
    "              \n",
    "        As a result, for a given energy bin i, we need to look up the \n",
    "        number of channel sets in `n_grp` for that energy bin. We \n",
    "        then need to loop over the number of channel sets. For each \n",
    "        channel set, we look up the first channel into which flux \n",
    "        will be distributed as well as the number of channels in the \n",
    "        group. We then need to also loop over the these channels and \n",
    "        actually use the corresponding elements in the redistribution \n",
    "        matrix to redistribute the photon flux into channels. \n",
    "        \n",
    "        All of this is basically a big bookkeeping exercise in making \n",
    "        sure to get the indices right.\n",
    "        \n",
    "        Parameters\n",
    "        ----------\n",
    "        spec : numpy.ndarray\n",
    "            The (model) spectrum to be folded\n",
    "\n",
    "        Returns\n",
    "        -------\n",
    "        counts : numpy.ndarray\n",
    "            The (model) spectrum after folding, in \n",
    "            counts/s/channel\n",
    "\n",
    "        \"\"\"    \n",
    "        \n",
    "        nchannels = spec.shape[0]\n",
    "\n",
    "        # an empty array for the output counts\n",
    "        counts = np.zeros(nchannels)\n",
    "        \n",
    "        # index for n_chan and f_chan incrementation\n",
    "        k = 0\n",
    "\n",
    "        # index for the response matrix incrementation\n",
    "        resp_idx = 0\n",
    "\n",
    "        # loop over all channels\n",
    "        for i in range(nchannels):\n",
    "            # this is the current bin in the flux spectrum to\n",
    "            # be folded\n",
    "            source_bin_i = spec[i]\n",
    "\n",
    "            # get the current number of groups \n",
    "            current_num_groups = self.n_grp[i]\n",
    "\n",
    "            # loop over the current number of groups\n",
    "            for j in range(current_num_groups):\n",
    "\n",
    "                # get the right index for the start of the counts array \n",
    "                # to put the data into\n",
    "                counts_idx = int(self.f_chan[k] - self.offset)\n",
    "                # this is the current number of channels to use\n",
    "\n",
    "                current_num_chans = int(self.n_chan[k])\n",
    "\n",
    "                k += 1\n",
    "\n",
    "                # add the flux to the subarray of the counts array that starts with \n",
    "                # counts_idx and runs over current_num_chans channels\n",
    "                counts[counts_idx:counts_idx+current_num_chans] +=  self.matrix[resp_idx:resp_idx+current_num_chans] * \\\n",
    "                                                                    np.float(source_bin_i)\n",
    "                # iterate the response index for next round\n",
    "                resp_idx += current_num_chans\n",
    "\n",
    "        return counts[:self.detchans]\n",
    "\n"
   ]
  },
  {
   "cell_type": "code",
   "execution_count": 34,
   "metadata": {
    "collapsed": false,
    "deletable": true,
    "editable": true
   },
   "outputs": [],
   "source": [
    "rmf_new = RMF(datadir+\"LAD_40mod_200eV_rbn.rsp\")\n",
    "m_rmf = rmf_new.apply_rmf(m)"
   ]
  },
  {
   "cell_type": "code",
   "execution_count": 35,
   "metadata": {
    "collapsed": false,
    "deletable": true,
    "editable": true
   },
   "outputs": [
    {
     "data": {
      "text/plain": [
       "[<matplotlib.lines.Line2D at 0x114547cf8>]"
      ]
     },
     "execution_count": 35,
     "metadata": {},
     "output_type": "execute_result"
    },
    {
     "data": {
      "image/png": "[encoded data removed]",
      "text/plain": [
       "<matplotlib.figure.Figure at 0x114591cc0>"
      ]
     },
     "metadata": {},
     "output_type": "display_data"
    }
   ],
   "source": [
    "plt.figure()\n",
    "plt.plot(m_rmf)\n",
    "plt.plot(m_rmf_v[:len(counts)])"
   ]
  },
  {
   "cell_type": "code",
   "execution_count": 36,
   "metadata": {
    "collapsed": true,
    "deletable": true,
    "editable": true
   },
   "outputs": [],
   "source": [
    "from clarsach import respond"
   ]
  },
  {
   "cell_type": "code",
   "execution_count": 37,
   "metadata": {
    "collapsed": true,
    "deletable": true,
    "editable": true
   },
   "outputs": [],
   "source": [
    "rmf_c = respond.RMF(datadir+\"LAD_40mod_200eV_rbn.rsp\")"
   ]
  },
  {
   "cell_type": "code",
   "execution_count": 38,
   "metadata": {
    "collapsed": true,
    "deletable": true,
    "editable": true
   },
   "outputs": [],
   "source": [
    "m_rmf_c = rmf_new.apply_rmf(m)"
   ]
  },
  {
   "cell_type": "code",
   "execution_count": 39,
   "metadata": {
    "collapsed": false,
    "deletable": true,
    "editable": true
   },
   "outputs": [
    {
     "data": {
      "text/plain": [
       "True"
      ]
     },
     "execution_count": 39,
     "metadata": {},
     "output_type": "execute_result"
    }
   ],
   "source": [
    "np.allclose(m_rmf_c, m_rmf_v[:len(counts)])"
   ]
  },
  {
   "cell_type": "code",
   "execution_count": 40,
   "metadata": {
    "collapsed": false,
    "deletable": true,
    "editable": true
   },
   "outputs": [
    {
     "data": {
      "text/plain": [
       "[<matplotlib.lines.Line2D at 0x1146dca20>]"
      ]
     },
     "execution_count": 40,
     "metadata": {},
     "output_type": "execute_result"
    },
    {
     "data": {
      "image/png": "[encoded data removed]",
      "text/plain": [
       "<matplotlib.figure.Figure at 0x1144fd320>"
      ]
     },
     "metadata": {},
     "output_type": "display_data"
    }
   ],
   "source": [
    "plt.figure()\n",
    "plt.plot(bin_mid, counts, label=\"data\")\n",
    "plt.plot(bin_mid, m_rmf_c*exposure, label=\"model\", alpha=0.5)"
   ]
  },
  {
   "cell_type": "markdown",
   "metadata": {
    "deletable": true,
    "editable": true
   },
   "source": [
    "And this works, toooooooo! "
   ]
  }
 ],
 "metadata": {
  "kernelspec": {
   "display_name": "Python 3",
   "language": "python",
   "name": "python3"
  },
  "language_info": {
   "codemirror_mode": {
    "name": "ipython",
    "version": 3
   },
   "file_extension": ".py",
   "mimetype": "text/x-python",
   "name": "python",
   "nbconvert_exporter": "python",
   "pygments_lexer": "ipython3",
   "version": "3.5.3"
  }
 },
 "nbformat": 4,
 "nbformat_minor": 2
}
