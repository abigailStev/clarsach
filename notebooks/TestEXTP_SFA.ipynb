{
 "cells": [
  {
   "cell_type": "markdown",
   "metadata": {
    "deletable": true,
    "editable": true
   },
   "source": [
    "# Testing Response Calculations for eXTP SFA\n",
    "\n",
    "Let's test our response calculations on eXTP SFA simulations!"
   ]
  },
  {
   "cell_type": "code",
   "execution_count": 1,
   "metadata": {
    "collapsed": false,
    "deletable": true,
    "editable": true
   },
   "outputs": [
    {
     "name": "stdout",
     "output_type": "stream",
     "text": [
      "WARNING: imaging routines will not be available, \n",
      "failed to import sherpa.image.ds9_backend due to \n",
      "'RuntimeErr: DS9Win unusable: Could not find ds9 on your PATH'\n",
      "WARNING: failed to import WCS module; WCS routines will not be available\n",
      "WARNING: failed to import sherpa.astro.xspec; XSPEC models will not be available\n"
     ]
    }
   ],
   "source": [
    "%matplotlib inline\n",
    "import matplotlib.pyplot as plt\n",
    "try:\n",
    "    import seaborn as sns\n",
    "except ImportError:\n",
    "    print(\"No seaborn installed. Oh well.\")\n",
    "    \n",
    "import numpy as np \n",
    "import pandas as pd\n",
    "import astropy.io.fits as fits\n",
    "import sherpa.astro.ui as ui\n",
    "import astropy.modeling.models as models\n",
    "from astropy.modeling.fitting import _fitter_to_model_params\n",
    "from scipy.special import gammaln as scipy_gammaln\n",
    "\n",
    "from clarsach.respond import RMF, ARF\n",
    "\n"
   ]
  },
  {
   "cell_type": "code",
   "execution_count": 2,
   "metadata": {
    "collapsed": true,
    "deletable": true,
    "editable": true
   },
   "outputs": [],
   "source": [
    "datadir = \"./\""
   ]
  },
  {
   "cell_type": "code",
   "execution_count": 3,
   "metadata": {
    "collapsed": false,
    "deletable": true,
    "editable": true
   },
   "outputs": [
    {
     "name": "stdout",
     "output_type": "stream",
     "text": [
      "WARNING: './XTP_sfa_withSDD_rbn.rsp' is not a filename or  MATRIX column not a variable length field\n"
     ]
    }
   ],
   "source": [
    "ui.load_data(id=\"p1\", filename=datadir+\"eXTP_SFA.fak\")"
   ]
  },
  {
   "cell_type": "code",
   "execution_count": 4,
   "metadata": {
    "collapsed": true,
    "deletable": true,
    "editable": true
   },
   "outputs": [],
   "source": [
    "d = ui.get_data(\"p1\")"
   ]
  },
  {
   "cell_type": "code",
   "execution_count": 5,
   "metadata": {
    "collapsed": false,
    "deletable": true,
    "editable": true
   },
   "outputs": [],
   "source": [
    "# conversion factor from keV to angstrom\n",
    "c = 12.3984191\n",
    "\n",
    "# This is the data in counts\n",
    "counts = d.counts\n",
    "channel = d.channel\n",
    "\n",
    "exposure = d.exposure"
   ]
  },
  {
   "cell_type": "code",
   "execution_count": 6,
   "metadata": {
    "collapsed": false,
    "deletable": true,
    "editable": true
   },
   "outputs": [
    {
     "data": {
      "text/plain": [
       "[<matplotlib.lines.Line2D at 0x114492550>]"
      ]
     },
     "execution_count": 6,
     "metadata": {},
     "output_type": "execute_result"
    },
    {
     "data": {
      "image/png": "[encoded data removed]",
      "text/plain": [
       "<matplotlib.figure.Figure at 0x1144169b0>"
      ]
     },
     "metadata": {},
     "output_type": "display_data"
    }
   ],
   "source": [
    "plt.figure(figsize=(10,7))\n",
    "plt.plot(channel, counts)"
   ]
  },
  {
   "cell_type": "code",
   "execution_count": 7,
   "metadata": {
    "collapsed": false,
    "deletable": true,
    "editable": true
   },
   "outputs": [
    {
     "data": {
      "text/plain": [
       "'keV'"
      ]
     },
     "execution_count": 7,
     "metadata": {},
     "output_type": "execute_result"
    }
   ],
   "source": [
    "rmf_list = fits.open(datadir+\"XTP_sfa_withSDD_rbn.rsp\")\n",
    "rmf_list[1].header[\"TUNIT2\"]"
   ]
  },
  {
   "cell_type": "code",
   "execution_count": 8,
   "metadata": {
    "collapsed": false,
    "deletable": true,
    "editable": true
   },
   "outputs": [
    {
     "name": "stdout",
     "output_type": "stream",
     "text": [
      "Filename: ./XTP_sfa_withSDD_rbn.rsp\n",
      "No.    Name         Type      Cards   Dimensions   Format\n",
      "  0  PRIMARY     PrimaryHDU      10   ()      \n",
      "  1  MATRIX      BinTableHDU     57   2048R x 6C   [E, E, I, 1I, 1I, 110E]   \n",
      "  2  EBOUNDS     BinTableHDU     48   110R x 3C   [J, E, E]   \n"
     ]
    }
   ],
   "source": [
    "rmf_list.info()"
   ]
  },
  {
   "cell_type": "code",
   "execution_count": 9,
   "metadata": {
    "collapsed": false,
    "deletable": true,
    "editable": true
   },
   "outputs": [
    {
     "data": {
      "text/plain": [
       "ColDefs(\n",
       "    name = 'CHANNEL'; format = 'J'\n",
       "    name = 'E_MIN'; format = 'E'; unit = 'keV'\n",
       "    name = 'E_MAX'; format = 'E'; unit = 'keV'\n",
       ")"
      ]
     },
     "execution_count": 9,
     "metadata": {},
     "output_type": "execute_result"
    }
   ],
   "source": [
    "rmf_list[\"EBOUNDS\"].columns"
   ]
  },
  {
   "cell_type": "code",
   "execution_count": 10,
   "metadata": {
    "collapsed": false,
    "deletable": true,
    "editable": true
   },
   "outputs": [],
   "source": [
    "energ_lo = rmf_list[\"MATRIX\"].data.field(\"ENERG_LO\")\n",
    "energ_hi = rmf_list[\"MATRIX\"].data.field(\"ENERG_HI\")\n",
    "\n",
    "bin_lo = rmf_list[\"EBOUNDS\"].data.field(\"E_MIN\")\n",
    "bin_hi = rmf_list[\"EBOUNDS\"].data.field(\"E_MAX\")\n",
    "bin_mid = bin_lo + (bin_hi - bin_lo)/2."
   ]
  },
  {
   "cell_type": "code",
   "execution_count": 11,
   "metadata": {
    "collapsed": false,
    "deletable": true,
    "editable": true
   },
   "outputs": [],
   "source": [
    "rmf = d.get_rmf()\n",
    "rmf"
   ]
  },
  {
   "cell_type": "code",
   "execution_count": 12,
   "metadata": {
    "collapsed": true,
    "deletable": true,
    "editable": true
   },
   "outputs": [],
   "source": [
    "from clarsach.models.powerlaw import Powerlaw"
   ]
  },
  {
   "cell_type": "code",
   "execution_count": 13,
   "metadata": {
    "collapsed": true,
    "deletable": true,
    "editable": true
   },
   "outputs": [],
   "source": [
    "pl = Powerlaw(norm=1.0, phoindex=2.0)"
   ]
  },
  {
   "cell_type": "code",
   "execution_count": 14,
   "metadata": {
    "collapsed": true,
    "deletable": true,
    "editable": true
   },
   "outputs": [],
   "source": [
    "m = pl.calculate(ener_lo=energ_lo, ener_hi=energ_hi)"
   ]
  },
  {
   "cell_type": "code",
   "execution_count": 15,
   "metadata": {
    "collapsed": false,
    "deletable": true,
    "editable": true
   },
   "outputs": [
    {
     "data": {
      "text/plain": [
       "[<matplotlib.lines.Line2D at 0x114464fd0>]"
      ]
     },
     "execution_count": 15,
     "metadata": {},
     "output_type": "execute_result"
    },
    {
     "data": {
      "image/png": "[encoded data removed]",
      "text/plain": [
       "<matplotlib.figure.Figure at 0x114695908>"
      ]
     },
     "metadata": {},
     "output_type": "display_data"
    }
   ],
   "source": [
    "plt.figure()\n",
    "plt.loglog(energ_lo, m)"
   ]
  },
  {
   "cell_type": "code",
   "execution_count": 16,
   "metadata": {
    "collapsed": false,
    "deletable": true,
    "editable": true
   },
   "outputs": [
    {
     "data": {
      "text/plain": [
       "2048"
      ]
     },
     "execution_count": 16,
     "metadata": {},
     "output_type": "execute_result"
    }
   ],
   "source": [
    "len(m)"
   ]
  },
  {
   "cell_type": "code",
   "execution_count": 17,
   "metadata": {
    "collapsed": false,
    "deletable": true,
    "editable": true
   },
   "outputs": [
    {
     "name": "stdout",
     "output_type": "stream",
     "text": [
      "`sherpa` can't read the RMF. Oh well.\n"
     ]
    }
   ],
   "source": [
    "try:\n",
    "    m_rmf = rmf.apply_rmf(m)\n",
    "except AttributeError:\n",
    "    print(\"`sherpa` can't read the RMF. Oh well.\")"
   ]
  },
  {
   "cell_type": "code",
   "execution_count": 18,
   "metadata": {
    "collapsed": true,
    "deletable": true,
    "editable": true
   },
   "outputs": [],
   "source": [
    "class PoissonLikelihood(object):\n",
    "    \n",
    "    def __init__(self, x_low, x_high, y, model, arf=None, rmf=None, exposure=1.0):\n",
    "        self.x_low = x_low\n",
    "        self.x_high = x_high\n",
    "        self.y = y\n",
    "        self.model = model\n",
    "        self.arf = arf\n",
    "        self.rmf = rmf\n",
    "        self.exposure = exposure\n",
    "        \n",
    "    def evaluate(self, pars):\n",
    "        # store the new parameters in the model\n",
    "\n",
    "        self.model.norm = pars[0]\n",
    "        self.model.phoindex = pars[1]\n",
    "        \n",
    "        # evaluate the model at the positions x\n",
    "        mean_model = self.model.calculate(self.x_low, self.x_high)\n",
    "\n",
    "        # run the ARF and RMF calculations\n",
    "        if self.arf is not None:\n",
    "            m_arf = self.arf.apply_arf(mean_model)\n",
    "            \n",
    "        else:\n",
    "            m_arf = mean_model\n",
    "            \n",
    "        if self.rmf is not None:\n",
    "            ymodel = self.rmf.apply_rmf(m_arf)\n",
    "        else:\n",
    "            ymodel = mean_model\n",
    "                \n",
    "        ymodel += 1e-20\n",
    "        \n",
    "        ymodel *= self.exposure\n",
    "        # compute the log-likelihood\n",
    "        loglike = np.sum(-ymodel + self.y*np.log(ymodel) \\\n",
    "               - scipy_gammaln(self.y + 1.))\n",
    "\n",
    "        if np.isfinite(loglike):\n",
    "            return loglike\n",
    "        else:\n",
    "            return -1.e16\n",
    "\n",
    "    def __call__(self, pars):\n",
    "        l = -self.evaluate(pars)\n",
    "        #print(l)\n",
    "        return l\n",
    "\n"
   ]
  },
  {
   "cell_type": "code",
   "execution_count": 19,
   "metadata": {
    "collapsed": true,
    "deletable": true,
    "editable": true
   },
   "outputs": [],
   "source": [
    "class RMF(object):\n",
    "    \n",
    "    def __init__(self, filename):\n",
    "        \n",
    "        self._load_rmf(filename)\n",
    "        pass\n",
    "    \n",
    "    def _load_rmf(self, filename):\n",
    "        \"\"\"\n",
    "        Load an RMF from a FITS file.\n",
    "        \n",
    "        Parameters\n",
    "        ----------\n",
    "        filename : str\n",
    "            The file name with the RMF file\n",
    "            \n",
    "        Attributes\n",
    "        ----------\n",
    "        n_grp : numpy.ndarray\n",
    "            the Array with the number of channels in each \n",
    "            channel set\n",
    "        \n",
    "        f_chan : numpy.ndarray\n",
    "            The starting channel for each channel group;\n",
    "            If an element i in n_grp > 1, then the resulting \n",
    "            row entry in f_chan will be a list of length n_grp[i];\n",
    "            otherwise it will be a single number\n",
    "            \n",
    "        n_chan : numpy.ndarray\n",
    "            The number of channels in each channel group. The same \n",
    "            logic as for f_chan applies\n",
    "            \n",
    "        matrix : numpy.ndarray\n",
    "            The redistribution matrix as a flattened 1D vector\n",
    "            \n",
    "        energ_lo : numpy.ndarray\n",
    "            The lower edges of the energy bins\n",
    "        \n",
    "        energ_hi : numpy.ndarray\n",
    "            The upper edges of the energy bins\n",
    "            \n",
    "        detchans : int\n",
    "            The number of channels in the detector\n",
    "        \n",
    "        \"\"\"\n",
    "        # open the FITS file and extract the MATRIX extension\n",
    "        # which contains the redistribution matrix and \n",
    "        # anxillary information\n",
    "        hdulist = fits.open(filename)\n",
    "\n",
    "        # get all the extension names\n",
    "        extnames = np.array([h.name for h in hdulist])\n",
    "\n",
    "        # figure out the right extension to use\n",
    "        if \"MATRIX\" in extnames:\n",
    "            h = hdulist[\"MATRIX\"]\n",
    "\n",
    "        elif \"SPECRESP MATRIX\" in extnames:\n",
    "            h = hdulist[\"SPECRESP MATRIX\"]\n",
    "\n",
    "        data = h.data\n",
    "        hdr = h.header\n",
    "        hdulist.close()\n",
    "        \n",
    "        # extract + store the attributes described in the docstring \n",
    "        n_grp = np.array(data.field(\"N_GRP\"))\n",
    "        f_chan = np.array(data.field('F_CHAN'))\n",
    "        n_chan = np.array(data.field(\"N_CHAN\"))\n",
    "        matrix = np.array(data.field(\"MATRIX\"))\n",
    "\n",
    "        self.energ_lo = np.array(data.field(\"ENERG_LO\"))\n",
    "        self.energ_hi = np.array(data.field(\"ENERG_HI\"))\n",
    "        self.detchans = hdr[\"DETCHANS\"]\n",
    "        self.offset = self.__get_tlmin(h)\n",
    "\n",
    "        # flatten the variable-length arrays\n",
    "        self.n_grp, self.f_chan, self.n_chan, self.matrix = \\\n",
    "                self.__flatten_arrays(n_grp, f_chan, n_chan, matrix)\n",
    "        \n",
    "        return\n",
    "    \n",
    "    def __get_tlmin(self, h):\n",
    "        \"\"\"\n",
    "        Get the tlmin keyword for `F_CHAN`.\n",
    "        \n",
    "        Parameters\n",
    "        ----------\n",
    "        h : an astropy.io.fits.hdu.table.BinTableHDU object\n",
    "            The extension containing the `F_CHAN` column\n",
    "            \n",
    "        Returns\n",
    "        -------\n",
    "        tlmin : int\n",
    "            The tlmin keyword\n",
    "        \"\"\"\n",
    "        # get the header\n",
    "        hdr = h.header\n",
    "        # get the keys of all \n",
    "        keys = np.array(list(hdr.keys()))\n",
    "        \n",
    "        # find the place where the tlmin keyword is defined\n",
    "        t = np.array([\"TLMIN\" in k for k in keys])\n",
    "        \n",
    "        # get the index of the TLMIN keyword\n",
    "        tlmin_idx = np.hstack(np.where(t))[0]\n",
    "        \n",
    "        # get the corresponding value\n",
    "        tlmin = np.int(list(hdr.items())[tlmin_idx][1])\n",
    "        \n",
    "        return tlmin\n",
    "        \n",
    "    def __flatten_arrays(self, n_grp, f_chan, n_chan, matrix):\n",
    "        \n",
    "        # find all non-zero groups\n",
    "        nz_idx = (n_grp > 0)\n",
    "        \n",
    "        # stack all non-zero rows in the matrix\n",
    "        matrix_flat = np.hstack(matrix[nz_idx])\n",
    "        \n",
    "        # stack all nonzero rows in n_chan and f_chan\n",
    "        n_chan_flat = np.hstack(n_chan[nz_idx])\n",
    "        f_chan_flat = np.hstack(f_chan[nz_idx])\n",
    "        \n",
    "        nz_idx2 = (n_chan_flat > 0)\n",
    "        n_chan_flat = n_chan_flat[nz_idx2]\n",
    "        f_chan_flat = f_chan_flat[nz_idx2]\n",
    "        \n",
    "        return n_grp, f_chan_flat, n_chan_flat, matrix_flat\n",
    "            \n",
    "    def apply_rmf(self, spec):\n",
    "        \"\"\"\n",
    "        Fold the spectrum through the redistribution matrix.\n",
    "\n",
    "        The redistribution matrix is saved as a flattened 1-dimensional \n",
    "        vector to save space. In reality, for each entry in the flux \n",
    "        vector, there exists one or more sets of channels that this \n",
    "        flux is redistributed into. The additional arrays `n_grp`, \n",
    "        `f_chan` and `n_chan` store this information:\n",
    "            * `n_group` stores the number of channel groups for each \n",
    "              energy bin\n",
    "            * `f_chan` stores the *first channel* that each channel \n",
    "              for each channel set \n",
    "            * `n_chan` stores the number of channels in each channel \n",
    "              set \n",
    "              \n",
    "        As a result, for a given energy bin i, we need to look up the \n",
    "        number of channel sets in `n_grp` for that energy bin. We \n",
    "        then need to loop over the number of channel sets. For each \n",
    "        channel set, we look up the first channel into which flux \n",
    "        will be distributed as well as the number of channels in the \n",
    "        group. We then need to also loop over the these channels and \n",
    "        actually use the corresponding elements in the redistribution \n",
    "        matrix to redistribute the photon flux into channels. \n",
    "        \n",
    "        All of this is basically a big bookkeeping exercise in making \n",
    "        sure to get the indices right.\n",
    "        \n",
    "        Parameters\n",
    "        ----------\n",
    "        spec : numpy.ndarray\n",
    "            The (model) spectrum to be folded\n",
    "\n",
    "        Returns\n",
    "        -------\n",
    "        counts : numpy.ndarray\n",
    "            The (model) spectrum after folding, in \n",
    "            counts/s/channel\n",
    "\n",
    "        \"\"\"    \n",
    "        \n",
    "        nchannels = spec.shape[0]\n",
    "\n",
    "        # an empty array for the output counts\n",
    "        counts = np.zeros(nchannels)\n",
    "        \n",
    "        # index for n_chan and f_chan incrementation\n",
    "        k = 0\n",
    "\n",
    "        # index for the response matrix incrementation\n",
    "        resp_idx = 0\n",
    "\n",
    "        # loop over all channels\n",
    "        for i in range(nchannels):\n",
    "            # this is the current bin in the flux spectrum to\n",
    "            # be folded\n",
    "            source_bin_i = spec[i]\n",
    "\n",
    "            # get the current number of groups \n",
    "            current_num_groups = self.n_grp[i]\n",
    "\n",
    "            # loop over the current number of groups\n",
    "            for j in range(current_num_groups):\n",
    "\n",
    "                # get the right index for the start of the counts array \n",
    "                # to put the data into\n",
    "                counts_idx = int(self.f_chan[k] - self.offset)\n",
    "                # this is the current number of channels to use\n",
    "\n",
    "                current_num_chans = int(self.n_chan[k])\n",
    "\n",
    "                k += 1\n",
    "\n",
    "                # add the flux to the subarray of the counts array that starts with \n",
    "                # counts_idx and runs over current_num_chans channels\n",
    "                counts[counts_idx:counts_idx+current_num_chans] +=  self.matrix[resp_idx:resp_idx+current_num_chans] * \\\n",
    "                                                                    np.float(source_bin_i)\n",
    "                # iterate the response index for next round\n",
    "                resp_idx += current_num_chans\n",
    "\n",
    "        return counts[:self.detchans]\n",
    "\n"
   ]
  },
  {
   "cell_type": "code",
   "execution_count": 20,
   "metadata": {
    "collapsed": false,
    "deletable": true,
    "editable": true
   },
   "outputs": [],
   "source": [
    "rmf_new = RMF(datadir+\"XTP_sfa_withSDD_rbn.rsp\")\n",
    "m_rmf = rmf_new.apply_rmf(m)"
   ]
  },
  {
   "cell_type": "code",
   "execution_count": 21,
   "metadata": {
    "collapsed": false,
    "deletable": true,
    "editable": true
   },
   "outputs": [
    {
     "data": {
      "text/plain": [
       "[<matplotlib.lines.Line2D at 0x114e9b6d8>]"
      ]
     },
     "execution_count": 21,
     "metadata": {},
     "output_type": "execute_result"
    },
    {
     "data": {
      "image/png": "[encoded data removed]",
      "text/plain": [
       "<matplotlib.figure.Figure at 0x114baee10>"
      ]
     },
     "metadata": {},
     "output_type": "display_data"
    }
   ],
   "source": [
    "plt.figure()\n",
    "plt.plot(m_rmf)\n"
   ]
  },
  {
   "cell_type": "code",
   "execution_count": 22,
   "metadata": {
    "collapsed": true,
    "deletable": true,
    "editable": true
   },
   "outputs": [],
   "source": [
    "from clarsach import respond"
   ]
  },
  {
   "cell_type": "code",
   "execution_count": 23,
   "metadata": {
    "collapsed": false,
    "deletable": true,
    "editable": true
   },
   "outputs": [],
   "source": [
    "rmf_c = respond.RMF(datadir+\"XTP_sfa_withSDD_rbn.rsp\")"
   ]
  },
  {
   "cell_type": "code",
   "execution_count": 24,
   "metadata": {
    "collapsed": true,
    "deletable": true,
    "editable": true
   },
   "outputs": [],
   "source": [
    "m_rmf_c = rmf_new.apply_rmf(m)"
   ]
  },
  {
   "cell_type": "code",
   "execution_count": 25,
   "metadata": {
    "collapsed": false,
    "deletable": true,
    "editable": true
   },
   "outputs": [
    {
     "data": {
      "text/plain": [
       "[<matplotlib.lines.Line2D at 0x114d12550>]"
      ]
     },
     "execution_count": 25,
     "metadata": {},
     "output_type": "execute_result"
    },
    {
     "data": {
      "image/png": "[encoded data removed]",
      "text/plain": [
       "<matplotlib.figure.Figure at 0x114c6ff60>"
      ]
     },
     "metadata": {},
     "output_type": "display_data"
    }
   ],
   "source": [
    "plt.figure()\n",
    "plt.plot(bin_mid, counts, label=\"data\")\n",
    "plt.plot(bin_mid, m_rmf_c*exposure, label=\"model\", alpha=0.5)"
   ]
  },
  {
   "cell_type": "markdown",
   "metadata": {
    "deletable": true,
    "editable": true
   },
   "source": [
    "And this works, toooooooo! \n",
    "\n",
    "Let's fit a function:"
   ]
  },
  {
   "cell_type": "code",
   "execution_count": 26,
   "metadata": {
    "collapsed": false
   },
   "outputs": [
    {
     "name": "stdout",
     "output_type": "stream",
     "text": [
      "   direc: array([[ 1.,  0.],\n",
      "       [ 0.,  1.]])\n",
      "     fun: 879.55545099164738\n",
      " message: 'Optimization terminated successfully.'\n",
      "    nfev: 40\n",
      "     nit: 1\n",
      "  status: 0\n",
      " success: True\n",
      "       x: array([ 1.00000127,  1.99999086])\n"
     ]
    },
    {
     "data": {
      "text/plain": [
       "<matplotlib.legend.Legend at 0x1146d5e10>"
      ]
     },
     "execution_count": 26,
     "metadata": {},
     "output_type": "execute_result"
    },
    {
     "data": {
      "image/png": "[encoded data removed]",
      "text/plain": [
       "<matplotlib.figure.Figure at 0x11454fa58>"
      ]
     },
     "metadata": {},
     "output_type": "display_data"
    }
   ],
   "source": [
    "loglike = PoissonLikelihood(energ_lo, energ_hi, counts, pl, arf=None, rmf=rmf_new, exposure=exposure)\n",
    "loglike([1.0, 2.0])\n",
    "\n",
    "from scipy.optimize import minimize\n",
    "\n",
    "opt = minimize(loglike, [1.0, 2.0], method=\"powell\")\n",
    "\n",
    "print(opt)\n",
    "\n",
    "m_fit = pl.calculate(energ_lo, energ_hi)\n",
    "m_fit_rmf = rmf_new.apply_rmf(m_fit) * exposure\n",
    "\n",
    "plt.figure()\n",
    "plt.plot(bin_mid, counts, label=\"data\")\n",
    "plt.plot(bin_mid, m_fit_rmf, label=\"model with ARF\")\n",
    "plt.legend()"
   ]
  }
 ],
 "metadata": {
  "kernelspec": {
   "display_name": "Python 3",
   "language": "python",
   "name": "python3"
  },
  "language_info": {
   "codemirror_mode": {
    "name": "ipython",
    "version": 3
   },
   "file_extension": ".py",
   "mimetype": "text/x-python",
   "name": "python",
   "nbconvert_exporter": "python",
   "pygments_lexer": "ipython3",
   "version": "3.5.3"
  }
 },
 "nbformat": 4,
 "nbformat_minor": 2
}
